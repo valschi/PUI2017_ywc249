{
 "cells": [
  {
   "cell_type": "markdown",
   "metadata": {},
   "source": [
    "# PUI Fall 2017 HW 5-1\n",
    "### Yuwen Chang (ywc249)\n",
    "### October 2017\n",
    "### Objective: test the Z test"
   ]
  },
  {
   "cell_type": "markdown",
   "metadata": {
    "toc": "true"
   },
   "source": [
    "# Table of Contents\n",
    " <p><div class=\"lev1 toc-item\"><a href=\"#Testing-the-difference-between-a-Binomial/Poisson-distribution-and-a-Gaussian-distribution-as-you-change-the-parameters-of-the-Binomial/Poisson-using:\" data-toc-modified-id=\"Testing-the-difference-between-a-Binomial/Poisson-distribution-and-a-Gaussian-distribution-as-you-change-the-parameters-of-the-Binomial/Poisson-using:-1\"><span class=\"toc-item-num\">1&nbsp;&nbsp;</span>Testing the difference between a Binomial/Poisson distribution and a Gaussian distribution as you change the parameters of the Binomial/Poisson using:</a></div><div class=\"lev1 toc-item\"><a href=\"#AD-and-KS-test\" data-toc-modified-id=\"AD-and-KS-test-2\"><span class=\"toc-item-num\">2&nbsp;&nbsp;</span>AD and KS test</a></div><div class=\"lev2 toc-item\"><a href=\"#KS:-high-p-value-pvalue&gt;0.05:-H0-that-sample-comes-from-a-Gaussian-distribution-cannot-be-rejected\" data-toc-modified-id=\"KS:-high-p-value-pvalue>0.05:-H0-that-sample-comes-from-a-Gaussian-distribution-cannot-be-rejected-21\"><span class=\"toc-item-num\">2.1&nbsp;&nbsp;</span>KS: high p-value pvalue&gt;0.05: H0 that sample comes from a Gaussian distribution cannot be rejected</a></div><div class=\"lev2 toc-item\"><a href=\"#AD:-at-alpha-=-0.05-the-statistics-=-0.26-is-smaller-than-the-0.784-critical-value-for-$alpha$=0.05-(thresh_0.05-=-0.784):-the-H0-cannot-be-rejected.\" data-toc-modified-id=\"AD:-at-alpha-=-0.05-the-statistics-=-0.26-is-smaller-than-the-0.784-critical-value-for-$alpha$=0.05-(thresh_0.05-=-0.784):-the-H0-cannot-be-rejected.-22\"><span class=\"toc-item-num\">2.2&nbsp;&nbsp;</span>AD: at alpha = 0.05 the statistics = 0.26 is smaller than the 0.784 critical value for <span class=\"MathJax_Preview\" style=\"color: inherit;\"></span><span class=\"MathJax MathJax_Processing\" id=\"MathJax-Element-2-Frame\" tabindex=\"0\"></span><script type=\"math/tex\" id=\"MathJax-Element-2\">alpha</script>=0.05 (thresh_0.05 = 0.784): the H0 cannot be rejected.</a></div><div class=\"lev1 toc-item\"><a href=\"#try-writing-down-the-null-for-each-test-and-see-if-scipy-manual-agrees-with-you-(the-manual-spells-out-the-Null)\" data-toc-modified-id=\"try-writing-down-the-null-for-each-test-and-see-if-scipy-manual-agrees-with-you-(the-manual-spells-out-the-Null)-3\"><span class=\"toc-item-num\">3&nbsp;&nbsp;</span>try writing down the null for each test and see if scipy manual agrees with you (the manual spells out the Null)</a></div><div class=\"lev1 toc-item\"><a href=\"#KL-DIVERGENCE\" data-toc-modified-id=\"KL-DIVERGENCE-4\"><span class=\"toc-item-num\">4&nbsp;&nbsp;</span>KL DIVERGENCE</a></div><div class=\"lev1 toc-item\"><a href=\"#BINOMIAL---INSTRUCTIONS-for-assignment\" data-toc-modified-id=\"BINOMIAL---INSTRUCTIONS-for-assignment-5\"><span class=\"toc-item-num\">5&nbsp;&nbsp;</span>BINOMIAL - INSTRUCTIONS for assignment</a></div><div class=\"lev2 toc-item\"><a href=\"#WRITE-A-CAPTION-HERE-IN-THIS-CELL..\" data-toc-modified-id=\"WRITE-A-CAPTION-HERE-IN-THIS-CELL..-51\"><span class=\"toc-item-num\">5.1&nbsp;&nbsp;</span>WRITE A CAPTION HERE IN THIS CELL..</a></div><div class=\"lev1 toc-item\"><a href=\"#POISSON---repeat-the-exercise-for-the-Poisson-distribution-increasing-the-lambda-parameter-of-the-distribution\" data-toc-modified-id=\"POISSON---repeat-the-exercise-for-the-Poisson-distribution-increasing-the-lambda-parameter-of-the-distribution-6\"><span class=\"toc-item-num\">6&nbsp;&nbsp;</span>POISSON - repeat the exercise for the Poisson distribution increasing the lambda parameter of the distribution</a></div><div class=\"lev1 toc-item\"><a href=\"#NOTE-on-KL-divergence:-the-KL-divergence-is-a-measure-of-how-much-approximation-you-have-to-do-to-represent-one-distribution-with-the-other-in-terms-of-information-content.-You-can-see-what-it-looks-point-by-point,-before-you-integrate-and-get-a-single-distance-number\" data-toc-modified-id=\"NOTE-on-KL-divergence:-the-KL-divergence-is-a-measure-of-how-much-approximation-you-have-to-do-to-represent-one-distribution-with-the-other-in-terms-of-information-content.-You-can-see-what-it-looks-point-by-point,-before-you-integrate-and-get-a-single-distance-number-7\"><span class=\"toc-item-num\">7&nbsp;&nbsp;</span>NOTE on KL divergence: the KL divergence is a measure of how much approximation you have to do to represent one distribution with the other in terms of information content. You can see what it looks point by point, before you integrate and get a single distance number</a></div>"
   ]
  },
  {
   "cell_type": "markdown",
   "metadata": {
    "run_control": {
     "frozen": false,
     "read_only": false
    }
   },
   "source": [
    "# Testing the difference between a Binomial/Poisson distribution and a Gaussian distribution as you change the parameters of the Binomial/Poisson using: \n",
    "\n",
    "1) KS: generate the distribution against which you can test against a normal (Gaussian) distribution\n",
    "\n",
    "2) AD: generate the distribution against which you can test against a normal (Gaussian) distribution\n",
    "\n",
    "3) KL divergence test: no package\n",
    "\n",
    "4) Pearson's chisq test: no package"
   ]
  },
  {
   "cell_type": "code",
   "execution_count": 1,
   "metadata": {
    "ExecuteTime": {
     "end_time": "2017-10-10T21:48:09.001664",
     "start_time": "2017-10-10T21:48:08.974753"
    },
    "run_control": {
     "frozen": false,
     "read_only": false
    }
   },
   "outputs": [
    {
     "name": "stdout",
     "output_type": "stream",
     "text": [
      "Populating the interactive namespace from numpy and matplotlib\n"
     ]
    }
   ],
   "source": [
    "from __future__ import print_function, division\n",
    "\n",
    "import numpy as np\n",
    "import pandas as pd\n",
    "import pylab as pl\n",
    "import scipy.stats as st\n",
    "\n",
    "%pylab inline"
   ]
  },
  {
   "cell_type": "markdown",
   "metadata": {
    "run_control": {
     "frozen": false,
     "read_only": false
    }
   },
   "source": [
    "http://docs.scipy.org/doc/scipy/reference/generated/scipy.stats.kstest.html#scipy.stats.kstest\n",
    "http://docs.scipy.org/doc/scipy/reference/generated/scipy.stats.anderson.html#scipy.stats.anderson\n",
    "http://docs.scipy.org/doc/scipy/reference/generated/scipy.stats.entropy.html#scipy.stats.entropy"
   ]
  },
  {
   "cell_type": "markdown",
   "metadata": {
    "ExecuteTime": {
     "end_time": "2017-10-10T21:49:12.619382",
     "start_time": "2017-10-10T21:49:12.616256"
    },
    "run_control": {
     "frozen": false,
     "read_only": false
    }
   },
   "source": [
    "# KS and AD test"
   ]
  },
  {
   "cell_type": "markdown",
   "metadata": {
    "run_control": {
     "frozen": false,
     "read_only": false
    }
   },
   "source": [
    "## Test against Gaussian:\n",
    "1. Gaussian (mean = 0, std = 1)\n",
    "2. Poisson with small $\\lambda$\n",
    "3. Binomial with small $np$"
   ]
  },
  {
   "cell_type": "code",
   "execution_count": 3,
   "metadata": {
    "ExecuteTime": {
     "end_time": "2017-10-10T21:48:13.225060",
     "start_time": "2017-10-10T21:48:13.212218"
    },
    "run_control": {
     "frozen": false,
     "read_only": false
    }
   },
   "outputs": [
    {
     "name": "stdout",
     "output_type": "stream",
     "text": [
      "normal on normal KstestResult(statistic=0.016344431331899001, pvalue=0.95212890203293565)\n",
      "normal on normal AndersonResult(statistic=0.26231814126674635, critical_values=array([ 0.574,  0.653,  0.784,  0.914,  1.088]), significance_level=array([ 15. ,  10. ,   5. ,   2.5,   1. ]))\n"
     ]
    }
   ],
   "source": [
    "# generate the distribution\n",
    "alpha = 0.05\n",
    "np.random.seed(999)\n",
    "dist_n = np.random.randn(1000) \n",
    "\n",
    "# test ks and ad\n",
    "print (\"normal on normal\", st.kstest(dist_n,'norm'))\n",
    "print (\"normal on normal\", st.anderson(dist_n, dist='norm'))"
   ]
  },
  {
   "cell_type": "markdown",
   "metadata": {
    "run_control": {
     "frozen": false,
     "read_only": false
    }
   },
   "source": [
    "## Results\n",
    "\n",
    "## $H_0$: the sample comes from a Gaussian distribution\n",
    "## $\\alpha = 0.05$\n",
    "\n",
    "### KS: high p-value > 0.05: cannot be rejected\n",
    "\n",
    "### AD: statistics = 0.26 < the 0.784 critical value for $\\alpha$=0.05: cannot be rejected"
   ]
  },
  {
   "cell_type": "markdown",
   "metadata": {
    "run_control": {
     "frozen": false,
     "read_only": false
    }
   },
   "source": []
  },
  {
   "cell_type": "code",
   "execution_count": 11,
   "metadata": {
    "ExecuteTime": {
     "end_time": "2017-10-10T21:59:28.429463",
     "start_time": "2017-10-10T21:59:27.367385"
    },
    "run_control": {
     "frozen": false,
     "read_only": false
    }
   },
   "outputs": [
    {
     "data": {
      "image/png": "[encoded data removed]",
      "text/plain": [
       "<matplotlib.figure.Figure at 0x117cfc160>"
      ]
     },
     "metadata": {},
     "output_type": "display_data"
    },
    {
     "name": "stdout",
     "output_type": "stream",
     "text": [
      "poisson on normal KstestResult(statistic=1.0, pvalue=0.0)\n",
      "poisson on normal AndersonResult(statistic=0.72428815547573322, critical_values=array([ 0.574,  0.653,  0.784,  0.914,  1.088]), significance_level=array([ 15. ,  10. ,   5. ,   2.5,   1. ]))\n",
      "\n",
      "\n",
      "In this case the means are different, so the distributions will be different for KS and AD test. I want a distribution with 'Poisson with high mean' shape cause that is more Gaussianbut I want the mean to be the same as for my Gaussian: mean=0. Similarly, the standard deviation is sqrt(lambda) = sqrt(100). I want it to be 1\n"
     ]
    },
    {
     "data": {
      "image/png": "[encoded data removed]",
      "text/plain": [
       "<matplotlib.figure.Figure at 0x11454a630>"
      ]
     },
     "metadata": {},
     "output_type": "display_data"
    },
    {
     "name": "stdout",
     "output_type": "stream",
     "text": [
      "poisson vs normal KstestResult(statistic=0.030537538725986857, pvalue=0.30353169660170898)\n",
      "poisson vs normal AndersonResult(statistic=0.92641226504883889, critical_values=array([ 0.574,  0.653,  0.784,  0.914,  1.088]), significance_level=array([ 15. ,  10. ,   5. ,   2.5,   1. ]))\n",
      "KS: higher p-value: does not reject the H0 at alpha=0.05\n",
      "AD: statistics AD=0.926 larger than threshold (for alpha=0.05): reject H0\n",
      "thresh_0.05 = 0.784\n"
     ]
    },
    {
     "data": {
      "image/png": "[encoded data removed]",
      "text/plain": [
       "<matplotlib.figure.Figure at 0x11796ddd8>"
      ]
     },
     "metadata": {},
     "output_type": "display_data"
    },
    {
     "name": "stdout",
     "output_type": "stream",
     "text": [
      "binomial vs normal KstestResult(statistic=0.14200000000000002, pvalue=0.0)\n",
      "binomial vs normal AndersonResult(statistic=15.852273853456609, critical_values=array([ 0.574,  0.653,  0.784,  0.914,  1.088]), significance_level=array([ 15. ,  10. ,   5. ,   2.5,   1. ]))\n",
      "KS: low p-value: rejects the H0 at alpha=0.05\n",
      "AD: statistics AD=15.852 larger than threshold (for alpha=0.05): rejects H0\n"
     ]
    }
   ],
   "source": [
    "np.random.seed(999)\n",
    "\n",
    "# poisson with 1000 elements, lambda=100 (high)\n",
    "dist_p = np.random.poisson(100, 1000)\n",
    "pl.figure()\n",
    "pl.hist(dist_p, alpha=0.5, label=\"Poisson\")\n",
    "pl.hist(dist_n, alpha=0.5, label=\"Gaussian\")\n",
    "pl.legend()\n",
    "pl.title(\"similar distributions in shape\\nbut different mean and stretch\")\n",
    "pl.show()\n",
    "print (\"poisson on normal\", st.kstest(dist_p,'norm'))\n",
    "print (\"poisson on normal\", st.anderson(dist_p, dist='norm'))\n",
    "print (\"\\n\\nIn this case the means are different, \" + \n",
    "       \"so the distributions will be different for KS and AD test. \" + \n",
    "       \"I want a distribution with 'Poisson with high mean' shape cause that is more Gaussian\" + \n",
    "       \"but I want the mean to be the same as for my Gaussian: mean=0. \"\n",
    "       \"Similarly, the standard deviation is sqrt(lambda) = sqrt(100). I want it to be 1\") \n",
    "\n",
    "# poisson fixed to mean = 0, sd = 1\n",
    "dist_p = (np.random.poisson(100, 1000) - 100) * 0.1 #-100 fixes mean, *0.1 fixes stdev\n",
    "pl.figure()\n",
    "pl.hist(dist_p, alpha=0.5, label=\"Poisson\")\n",
    "pl.hist(dist_n, alpha=0.5, label=\"Gaussian\")\n",
    "pl.legend()\n",
    "pl.title(\"similar distributions\")\n",
    "pl.show()\n",
    "\n",
    "# print test result\n",
    "print (\"poisson vs normal\", st.kstest(dist_p,'norm'))\n",
    "print (\"poisson vs normal\", st.anderson(dist_p, dist='norm'))\n",
    "print (\"KS: higher p-value: does not reject the H0 at alpha=0.05\") \n",
    "print (\"AD: statistics AD=0.926 larger than threshold (for alpha=0.05): rejects H0\") \n",
    "\n",
    "threshold = st.anderson(dist_n, dist='norm')[1] \\\n",
    "           [st.anderson(dist_n, dist='norm')[2]==[5.0]]\n",
    "print (\"thresh_0.05 = %.3f\"%threshold[0])\n",
    "\n",
    "#binomial with n=10, p=0.5 => mean=np=5, stdev=sqrt(np(1-p))\n",
    "n, p = 10, 0.5\n",
    "dist_b = (np.random.binomial(n, p, 1000) - n*p) / np.sqrt(n*p*(1-p))  #subtract mean, divide by stdev\n",
    "pl.figure()\n",
    "pl.hist(dist_b, alpha=0.5, label=\"Binomial\")\n",
    "pl.hist(dist_n, alpha=0.5, label=\"Gaussian\")\n",
    "pl.legend()\n",
    "pl.title(\"similar distributions\")\n",
    "pl.show()\n",
    "\n",
    "# print test result\n",
    "print (\"binomial vs normal\", st.kstest(dist_b,'norm'))\n",
    "print (\"binomial vs normal\", st.anderson(dist_b, dist='norm'))\n",
    "print (\"KS: low p-value: rejects the H0 at alpha=0.05\") \n",
    "print (\"AD: statistics AD=15.852 larger than threshold (for alpha=0.05): rejects H0\")"
   ]
  },
  {
   "cell_type": "markdown",
   "metadata": {
    "run_control": {
     "frozen": false,
     "read_only": false
    }
   },
   "source": [
    "# Null hypothesis\n",
    "- KS: two distributions are identical\n",
    "- AD: a sample is drawn from a population that follows a particular distribution"
   ]
  },
  {
   "cell_type": "markdown",
   "metadata": {
    "run_control": {
     "frozen": false,
     "read_only": false
    }
   },
   "source": [
    "# KL DIVERGENCE"
   ]
  },
  {
   "cell_type": "markdown",
   "metadata": {
    "run_control": {
     "frozen": false,
     "read_only": false
    }
   },
   "source": [
    "KL divergence is a measure of how much approximation you have to do to represent one distribution with the other in terms of information content. You can see what it looks point by point, before you integrate and get a single distance number\n",
    "\n",
    "__ empirical distribution__: requires the distribution _y_ value at location _x_.\n",
    "pass the values of the _distribution_ at some x's, not my histogram though, if I need a  **NORMALIZED HISTOGRAM OF MY DISTRIBUTION**, i.e. derive a probability distribution function (PDF) from the data. \n",
    "\n",
    "__model__: then pass a function for my comparison distribution evaluated at the same _x_-values where my empirical distribution is evaluated (not just the name of a distribution like for KS and AD)"
   ]
  },
  {
   "cell_type": "code",
   "execution_count": 12,
   "metadata": {
    "ExecuteTime": {
     "end_time": "2017-10-10T21:59:32.658546",
     "start_time": "2017-10-10T21:59:32.650312"
    },
    "run_control": {
     "frozen": false,
     "read_only": false
    }
   },
   "outputs": [
    {
     "data": {
      "text/plain": [
       "array([-3.50760164, -2.84558484, -2.18356804, -1.52155124, -0.85953444,\n",
       "       -0.19751764,  0.46449916,  1.12651596,  1.78853276,  2.45054955,\n",
       "        3.11256635])"
      ]
     },
     "execution_count": 12,
     "metadata": {},
     "output_type": "execute_result"
    }
   ],
   "source": [
    "# np.histogram returns the value of the histogram (y) and the edges of the bins (x). \n",
    "# Notice: the edges, not the centers\n",
    "distpdf_n, mybins_n, = np.histogram(dist_n, density=True)\n",
    "distpdf_b, mybins_b, = np.histogram(dist_b, density=True)\n",
    "distpdf_p, mybins_p, = np.histogram(dist_p, density=True)\n",
    "\n",
    "# Notice: the extra comma on the left side of the '=' sign: \n",
    "# that tells numpy take the first two values returned, and throw away the rest"
   ]
  },
  {
   "cell_type": "markdown",
   "metadata": {
    "run_control": {
     "frozen": false,
     "read_only": false
    }
   },
   "source": [
    "then pass it the functional form of a normal PDF, returned by the scipy.stats.norm, for example, evaluated at the bin centers of the histogram from before"
   ]
  },
  {
   "cell_type": "code",
   "execution_count": 15,
   "metadata": {
    "ExecuteTime": {
     "end_time": "2017-10-10T22:05:38.562573",
     "start_time": "2017-10-10T22:05:38.546516"
    },
    "run_control": {
     "frozen": false,
     "read_only": false
    }
   },
   "outputs": [
    {
     "name": "stdout",
     "output_type": "stream",
     "text": [
      "the KL test returns the \"entropy\".\n",
      "To figure out what the number means though in terms of NULL rejection, help yourself with the fact that you know what the result should be for these three distributions!\n",
      "normal on normal 0.00527211066212\n",
      "poisson on normal 0.00523311596851\n",
      "binomial on normal 0.0690986635223\n"
     ]
    }
   ],
   "source": [
    "#get the bin centers\n",
    "bincenters_n = mybins_n[:-1] + 0.5*(mybins_n[1] - mybins_n[0])\n",
    "bincenters_b = mybins_b[:-1] + 0.5*(mybins_b[1] - mybins_b[0])\n",
    "bincenters_p = mybins_p[:-1] + 0.5*(mybins_p[1] - mybins_p[0])\n",
    "\n",
    "print ('the KL test returns the \"entropy\".\\n' + \n",
    "       \"To figure out what the number means though in terms of NULL rejection, help yourself \" + \n",
    "       \"with the fact that you know what the result should be for these three distributions!\")\n",
    "print (\"normal on normal\", \n",
    "       st.entropy(distpdf_n, st.norm.pdf(bincenters_n)))\n",
    "print (\"poisson on normal\", \n",
    "       st.entropy(distpdf_p, st.norm.pdf(bincenters_p)))\n",
    "print (\"binomial on normal\", \n",
    "       st.entropy(distpdf_b, st.norm.pdf(bincenters_p)))\n",
    "\n",
    "# you can interpret this as a distance: \n",
    "# it increases as the distributions diverge"
   ]
  },
  {
   "cell_type": "markdown",
   "metadata": {
    "run_control": {
     "frozen": false,
     "read_only": false
    }
   },
   "source": [
    "# Binomial"
   ]
  },
  {
   "cell_type": "code",
   "execution_count": 16,
   "metadata": {
    "ExecuteTime": {
     "end_time": "2017-10-10T22:36:14.319175",
     "start_time": "2017-10-10T22:36:14.148194"
    },
    "hide_input": true,
    "run_control": {
     "frozen": false,
     "read_only": false
    },
    "scrolled": false
   },
   "outputs": [
    {
     "ename": "NameError",
     "evalue": "name 'narray' is not defined",
     "output_type": "error",
     "traceback": [
      "\u001b[0;31m---------------------------------------------------------------------------\u001b[0m",
      "\u001b[0;31mNameError\u001b[0m                                 Traceback (most recent call last)",
      "\u001b[0;32m<ipython-input-16-a8ed5a163363>\u001b[0m in \u001b[0;36m<module>\u001b[0;34m()\u001b[0m\n\u001b[1;32m      2\u001b[0m \u001b[0;34m\u001b[0m\u001b[0m\n\u001b[1;32m      3\u001b[0m \u001b[0;31m#loop over the different values of n (or n and p)\u001b[0m\u001b[0;34m\u001b[0m\u001b[0;34m\u001b[0m\u001b[0m\n\u001b[0;32m----> 4\u001b[0;31m \u001b[0;32mfor\u001b[0m \u001b[0mi\u001b[0m\u001b[0;34m,\u001b[0m\u001b[0mn\u001b[0m \u001b[0;32min\u001b[0m \u001b[0menumerate\u001b[0m\u001b[0;34m(\u001b[0m\u001b[0mnarray\u001b[0m\u001b[0;34m)\u001b[0m\u001b[0;34m:\u001b[0m\u001b[0;34m\u001b[0m\u001b[0m\n\u001b[0m\u001b[1;32m      5\u001b[0m     \u001b[0mp\u001b[0m \u001b[0;34m=\u001b[0m \u001b[0;36m0.5\u001b[0m \u001b[0;31m#parameter for the binomial, my arbitrary choice\u001b[0m\u001b[0;34m\u001b[0m\u001b[0m\n\u001b[1;32m      6\u001b[0m     \u001b[0;31m#generate the distribution\u001b[0m\u001b[0;34m\u001b[0m\u001b[0;34m\u001b[0m\u001b[0m\n",
      "\u001b[0;31mNameError\u001b[0m: name 'narray' is not defined"
     ]
    }
   ],
   "source": [
    "np.random.seed(999)\n",
    "\n",
    "# loop over the different values of n (or n and p)\n",
    "for i,n in enumerate(narray):\n",
    "    p = 0.5 # parameter for the binomial, my arbitrary choice\n",
    "    # generate the distribution\n",
    "    dist = (np.random.binomial(n, p, 1000) - n * p ) / np.sqrt(n * p * (1 - p))\n",
    "    # run the tests. \n",
    "    ks_s_b[i] = st.kstest(dist,'norm')[0]\n",
    "    ks_p_b[i] = st.kstest(dist,'norm')[1]\n",
    "    #print (st.kstest(dist,'norm'))\n",
    "    #print (st.anderson(dist, dist='norm'))\n",
    "    ad_b[i] = st.anderson(dist, dist='norm')[0]\n",
    "    #ad_b[i] = ad_b[i] / ad_b[0]\n",
    "    #print ad_b[i]\n",
    "  \n",
    "    # for KL and Pearson's chisq I have to simulate the normal distribution as well\n",
    "    mybins = np.linspace(min(dist), max(dist), 10) \n",
    "    bincenters = mybins[:-1] + 0.5 * (mybins[1] - mybins[0])\n",
    "\n",
    "    # when i was coding this up something was wrong. i put some plots in to figure out what... \n",
    "    # just so you know.\n",
    "    #if i%10 == 0: \n",
    "    #    pl.hist(dist, bins=mybins)\n",
    "    #    pl.plot(bincenters, scipy.stats.norm.pdf(bincenters)*1000)\n",
    "    kl_b [i] =  scipy.stats.entropy(np.histogram(dist, bins=mybins)[0], \n",
    "                                    st.norm.pdf(bincenters) + n)\n",
    "    "
   ]
  },
  {
   "cell_type": "code",
   "execution_count": 89,
   "metadata": {
    "ExecuteTime": {
     "end_time": "2017-10-10T22:36:16.445603",
     "start_time": "2017-10-10T22:36:15.641033"
    },
    "hide_input": true,
    "run_control": {
     "frozen": false,
     "read_only": false
    }
   },
   "outputs": [
    {
     "data": {
      "image/png": "[encoded data removed]",
      "text/plain": [
       "<matplotlib.figure.Figure at 0x11581ec50>"
      ]
     },
     "metadata": {},
     "output_type": "display_data"
    }
   ],
   "source": [
    "\n",
    "fig = pl.figure(figsize = (15,5))\n",
    "fig.add_subplot(131)\n",
    "pl.plot(narray, ks_s_b, label='KS statistics')\n",
    "pl.plot(narray, ks_p_b, label='KS p-value')\n",
    "pl.legend()\n",
    "\n",
    "fig.add_subplot(132)\n",
    "pl.plot(narray, ad_b,  label='AD statistics')\n",
    "pl.plot([narray[0], narray[-1]],[threshold, threshold], label=\"treshold\")\n",
    "pl.ylim(0,10) #limit the y range or you cannot see the relevant part\n",
    "pl.legend()\n",
    "\n",
    "fig.add_subplot(133)\n",
    "pl.plot(narray, kl_b, label='K-L (entropy)')\n",
    "\n",
    "pl.legend();"
   ]
  },
  {
   "cell_type": "markdown",
   "metadata": {
    "run_control": {
     "frozen": false,
     "read_only": false
    }
   },
   "source": [
    "You want to see how the p-value (or the test statistics) behaves as a function of increasing n*p.\n",
    "So you can plot the p-value (or the test statistics) against the n*p\n",
    "think about how the captions are written in the paper"
   ]
  },
  {
   "cell_type": "markdown",
   "metadata": {
    "run_control": {
     "frozen": false,
     "read_only": false
    }
   },
   "source": [
    "## WRITE A CAPTION HERE IN THIS CELL.."
   ]
  },
  {
   "cell_type": "markdown",
   "metadata": {
    "run_control": {
     "frozen": false,
     "read_only": false
    }
   },
   "source": [
    "# Poisson"
   ]
  },
  {
   "cell_type": "markdown",
   "metadata": {
    "run_control": {
     "frozen": false,
     "read_only": false
    }
   },
   "source": [
    "increase lambda"
   ]
  },
  {
   "cell_type": "code",
   "execution_count": 17,
   "metadata": {
    "ExecuteTime": {
     "end_time": "2017-10-10T22:37:13.234053",
     "start_time": "2017-10-10T22:37:12.370643"
    },
    "run_control": {
     "frozen": false,
     "read_only": false
    }
   },
   "outputs": [
    {
     "name": "stderr",
     "output_type": "stream",
     "text": [
      "/Users/Yuwen/anaconda/lib/python3.6/site-packages/ipykernel_launcher.py:7: RuntimeWarning: divide by zero encountered in log10\n",
      "  import sys\n",
      "/Users/Yuwen/anaconda/lib/python3.6/site-packages/ipykernel_launcher.py:7: RuntimeWarning: invalid value encountered in multiply\n",
      "  import sys\n"
     ]
    },
    {
     "data": {
      "image/png": "[encoded data removed]",
      "text/plain": [
       "<matplotlib.figure.Figure at 0x117eb5470>"
      ]
     },
     "metadata": {},
     "output_type": "display_data"
    }
   ],
   "source": [
    "pl.figure(figsize=(10,10))\n",
    "\n",
    "q = lambda x, mu : st.distributions.norm.pdf(x - mu)\n",
    "c = lambda x, mu : st.distributions.chi2.pdf(x, df=mu)\n",
    "f = lambda x, mu : st.distributions.f.pdf(x,100,100)\n",
    "\n",
    "Dkl = lambda x ,mu, p :  p(x, mu) * np.log10(q(x, mu)) + p(x, mu) * np.log10(p(x, mu))\n",
    "\n",
    "def model(x) : \n",
    "    #gaussian model from scratch\n",
    "    return 1. / (s * np.sqrt(2 * np.pi)) * np.exp(- ((x - m)**2 / 2. / s**2))\n",
    "\n",
    "x = np.linspace(-10,10,100)\n",
    "pl.plot(x, q(x, 1), label='norm')\n",
    "\n",
    "#print np.nansum(Dkl(np.linspace(0,30,1000), 1, p))\n",
    "\n",
    "pl.plot(x, c(x,1), label='f')\n",
    "pl.plot(x,Dkl(x, 1, c), '--', label = 'KL - chi2')\n",
    "\n",
    "#print np.nansum(Dkl(np.linspace(0,30,1000), 1, c))\n",
    "\n",
    "pl.plot(x, f(x,1), label='F')\n",
    "pl.plot(x, Dkl(x, 1, f), '--', label = 'KL - F')\n",
    "\n",
    "#print np.nansum(Dkl(np.linspace(0,30,1000), 1, f))\n",
    "bins = np.arange(0, 99, 10)\n",
    "\n",
    "pl.xlim(-10, 10)\n",
    "pl.legend(fontsize = 20);"
   ]
  },
  {
   "cell_type": "markdown",
   "metadata": {},
   "source": [
    "Generate N samples from a distribution of your choice,with a chosen mean μ and standard deviation σ: N(μ, σ) and calculate the mean of each sample (all samples should have the same size n).\n",
    "\n",
    "Assess the validity of the Z-test: If the samples are drawn from the distribution you are testing the z-values you calculate should follow a N(0,1) distribution (a Gaussian with mean 0 and standard deviation 1). Show that the distribution of z -statistics (find the formula in a statistics book or in last week’s slides) that you calculated (one for each sample) is indeed consistent with N(0,1).\n",
    "\n",
    "\n",
    "plot your original distribution\n",
    "\n",
    "plot at least one of the samples\n",
    "\n",
    "plot the distribution of z statistics\n",
    "\n",
    "fit the z-statistics with a gaussian model and assess the goodnes of fit with a simple test (AD or KS).\n",
    "\n",
    "find the best fit values for the model parameters (mean and standard deviation) by minimizing the model chi square.\n",
    "\n",
    "plots need have caption, axis labels, and comment your figures and test results appropriately"
   ]
  },
  {
   "cell_type": "code",
   "execution_count": 26,
   "metadata": {
    "run_control": {
     "frozen": false,
     "read_only": false
    }
   },
   "outputs": [
    {
     "data": {
      "image/png": "[encoded data removed]",
      "text/plain": [
       "<matplotlib.figure.Figure at 0x113ba9f60>"
      ]
     },
     "metadata": {},
     "output_type": "display_data"
    }
   ],
   "source": [
    "normal = st.norm.rvs(loc=100,scale=10,size=1000)\n",
    "pl.hist(normal);"
   ]
  },
  {
   "cell_type": "code",
   "execution_count": 27,
   "metadata": {
    "collapsed": true
   },
   "outputs": [],
   "source": [
    "def calc_z(norm, mu=100, std=10):\n",
    "    z = np.sqrt(len(norm)) * (mu - norm.mean()) / (std)\n",
    "    return z"
   ]
  },
  {
   "cell_type": "code",
   "execution_count": 28,
   "metadata": {},
   "outputs": [
    {
     "data": {
      "text/plain": [
       "0.69102439812001415"
      ]
     },
     "execution_count": 28,
     "metadata": {},
     "output_type": "execute_result"
    }
   ],
   "source": [
    "calc_z(normal)"
   ]
  },
  {
   "cell_type": "code",
   "execution_count": 29,
   "metadata": {},
   "outputs": [
    {
     "data": {
      "text/plain": [
       "array([  4.60321236e-01,   3.50745021e-01,   6.65782412e-01,\n",
       "         1.81824932e+00,   1.23449968e+00,   1.41533540e-01,\n",
       "        -7.50800941e-01,  -1.56171332e+00,  -2.45256448e+00,\n",
       "        -1.51946424e+00,  -9.21192431e-01,   5.28774659e-01,\n",
       "         8.21333761e-02,   4.04930219e-01,   6.72149201e-01,\n",
       "         6.39930672e-01,  -4.34439547e-01,  -4.95232445e-02,\n",
       "        -5.29744806e-01,   1.62142390e+00,  -3.93528610e-01,\n",
       "         1.26947379e+00,   2.57361485e-01,  -8.17453416e-01,\n",
       "         1.03042722e+00,   1.80762541e-01,  -5.39038358e-01,\n",
       "        -3.59338524e-01,   7.01037555e-01,  -6.13746249e-01,\n",
       "        -4.58754362e-01,  -4.41391781e-01,  -6.41395587e-01,\n",
       "         5.53113893e-01,  -2.08171269e+00,   9.26893104e-01,\n",
       "         3.82496543e-01,  -2.06343787e+00,  -8.50633518e-01,\n",
       "         1.38253574e-02,  -1.07394343e+00,  -1.27033229e-01,\n",
       "         1.17929455e+00,   1.20241116e+00,  -2.32073040e-01,\n",
       "         6.98382485e-01,  -5.15604444e-01,  -1.02731666e+00,\n",
       "        -1.15356168e+00,   2.07490953e-01,  -3.32998319e-01,\n",
       "         2.33925701e+00,   7.32354803e-02,  -7.24751349e-01,\n",
       "        -7.52361164e-01,   5.95038946e-01,  -1.37907739e-01,\n",
       "        -2.75291541e-01,   6.78923100e-01,   1.73376426e-01,\n",
       "         1.65691787e+00,  -1.45127099e+00,  -1.71749579e-01,\n",
       "         1.03238133e+00,   9.43610958e-01,  -6.52497602e-01,\n",
       "         6.94321997e-01,   6.95104929e-01,   4.59914232e-01,\n",
       "         2.63170860e-02,   1.81470986e-01,   2.66794409e+00,\n",
       "        -1.35385145e-01,  -1.12772971e-01,   3.60087669e-01,\n",
       "         1.61256523e-01,   1.47845949e+00,  -1.17825939e+00,\n",
       "         9.58371213e-01,   1.24270218e-01,  -3.99277404e-01,\n",
       "        -2.41191405e-01,   1.79604262e+00,  -2.08965180e-01,\n",
       "         8.50409277e-01,   1.07499675e+00,   7.39034238e-01,\n",
       "        -4.35246362e-01,   1.37593994e+00,   1.37242254e+00,\n",
       "        -1.74249292e+00,   5.72401223e-01,  -8.40787350e-03,\n",
       "        -1.14306531e+00,   2.55922628e+00,  -1.83958510e+00,\n",
       "         9.96329941e-01,   2.31766636e-01,  -1.02521821e+00,\n",
       "        -9.55958582e-02,   3.29120640e+00,   2.55084457e-01,\n",
       "         9.26632596e-01,   6.04594118e-01,   3.25986342e-01,\n",
       "         2.27281342e-01,   1.40854539e-01,   1.81749831e+00,\n",
       "         1.54352251e+00,   5.20302399e-01,  -7.26317854e-01,\n",
       "         3.88485734e-01,  -1.91361388e+00,  -7.60330387e-01,\n",
       "        -3.00502137e+00,   8.43677942e-01,   1.51682686e-01,\n",
       "         4.58566396e-01,   3.49499774e-01,  -1.18833536e+00,\n",
       "         5.14067034e-01,   2.01096117e+00,  -1.57709706e+00,\n",
       "         8.13145778e-01,  -2.15043852e-02,   1.03906685e+00,\n",
       "         8.93472147e-01,   3.49658444e-01,   3.38960313e-01,\n",
       "        -1.05577146e+00,   4.05505771e-01,   2.73879774e-01,\n",
       "        -3.89214320e-01,  -1.51005750e+00,  -1.96128681e-01,\n",
       "         2.08232177e+00,   6.74233986e-01,   7.15898658e-02,\n",
       "         5.69436768e-01,  -3.95562486e-01,  -2.62582214e-01,\n",
       "        -1.75962261e+00,   6.21400339e-01,  -7.41948277e-01,\n",
       "        -1.33318832e-01,   1.74196497e+00,  -7.68920630e-01,\n",
       "        -4.43902841e-01,  -9.11516147e-01,  -1.20409738e-01,\n",
       "         1.84625203e+00,  -1.91223213e-01,  -8.55887120e-01,\n",
       "         3.88452395e-02,   3.21752355e-01,   9.73601188e-01,\n",
       "         2.26205749e-01,  -1.32429571e-01,  -7.10134207e-02,\n",
       "         2.32503748e+00,   4.18980979e-02,  -2.16034216e-01,\n",
       "        -1.34726549e+00,   1.12270728e+00,   1.03865933e+00,\n",
       "        -1.20598953e+00,  -1.17483952e-01,  -2.88063084e+00,\n",
       "        -8.29571739e-01,  -1.09193467e+00,   9.81573154e-01,\n",
       "         2.06090946e-01,  -6.91090459e-01,   2.65155185e-01,\n",
       "        -3.14370118e+00,   1.15352679e+00,   1.03460329e-01,\n",
       "        -5.37363621e-01,  -1.14014931e+00,   2.01267400e-01,\n",
       "         5.79647643e-01,  -1.13817370e-01,  -2.30523842e-01,\n",
       "         5.05796695e-01,  -1.39034091e+00,   1.63897473e+00,\n",
       "         9.67906677e-02,  -1.43526110e-01,  -5.45218026e-01,\n",
       "        -1.37670429e+00,  -7.03821816e-01,   5.04016348e-01,\n",
       "         8.03986851e-01,  -1.78188508e-02,   9.57008795e-01,\n",
       "         1.16492625e+00,   1.21867124e+00,   1.46080371e+00,\n",
       "         1.76909213e-01,  -1.29776647e+00,   5.34947576e-01,\n",
       "        -1.13521356e+00,  -8.98433056e-02,   1.02795798e+00,\n",
       "         7.49910738e-01,  -4.06022237e-01,   1.55371379e-01,\n",
       "         1.39107306e+00,   2.11922524e-01,   1.67204402e+00,\n",
       "        -1.49407378e+00,  -2.12804061e-02,  -5.00396484e-01,\n",
       "        -1.06351827e+00,   6.11554863e-01,  -1.01782078e-01,\n",
       "        -1.50697935e-01,  -1.58384343e+00,   7.27101974e-01,\n",
       "        -2.63772109e-01,   4.15087229e-01,   1.57651018e+00,\n",
       "        -1.20208634e+00,   8.66545442e-01,  -8.56660855e-01,\n",
       "        -6.84619639e-01,  -1.43683149e-02,  -2.04017849e-01,\n",
       "        -1.41295205e+00,   7.43351864e-01,  -5.71655093e-01,\n",
       "         4.95404601e-02,   2.18361748e+00,   2.06089037e-01,\n",
       "        -1.59792336e-01,  -5.09680136e-01,  -1.62496865e+00,\n",
       "        -5.81971662e-01,   7.90260411e-01,  -1.32143419e+00,\n",
       "        -1.51787700e+00,  -1.12744033e+00,  -4.89523690e-01,\n",
       "         2.35532596e+00,   5.54025884e-01,  -1.70271241e-01,\n",
       "        -3.44150497e-01,  -6.59802227e-01,   9.54888794e-01,\n",
       "         1.31847248e+00,  -1.87120796e-01,   1.05054982e-01,\n",
       "         1.61333500e+00,   7.55994043e-02,   1.96665917e+00,\n",
       "        -5.61725726e-01,  -2.89173836e+00,  -6.51613634e-01,\n",
       "        -6.78421171e-02,   9.80073122e-01,   4.41916523e-01,\n",
       "        -3.84068286e-01,  -8.98430399e-01,  -1.21109310e+00,\n",
       "        -6.90787431e-02,  -1.67761620e+00,  -6.49373501e-01,\n",
       "        -1.67392492e+00,  -4.45028946e-01,  -1.61040197e+00,\n",
       "         1.54689682e+00,  -1.97868966e-02,  -4.48960959e-01,\n",
       "        -1.71412624e+00,   2.56596457e-01,  -4.85906329e-01,\n",
       "        -6.02144962e-01,  -9.73323359e-02,   1.11441499e+00,\n",
       "        -7.82540154e-01,  -1.11894302e+00,   1.22578494e+00,\n",
       "        -7.88738583e-01,   6.86588039e-01,   8.50449991e-01,\n",
       "         5.83208381e-02,  -1.34677939e+00,  -1.53471513e+00,\n",
       "        -1.20896717e+00,   2.05383204e+00,   5.52042431e-01,\n",
       "         1.71730786e-01,   1.60032245e+00,   1.65790704e-01,\n",
       "        -9.14207476e-01,  -1.40200678e+00,  -1.71389280e+00,\n",
       "         7.90269354e-01,  -7.59111558e-01,   3.87331257e-01,\n",
       "         2.68938520e-01,  -1.10525561e+00,   1.19594687e-01,\n",
       "         2.91743470e-01,  -6.93573245e-01,   2.10469837e+00,\n",
       "        -1.08542844e+00,   2.28131487e-01,   2.56899880e-01,\n",
       "        -3.74012005e-01,   2.30502666e+00,  -9.37658575e-01,\n",
       "         1.98530088e-01,   2.03143696e-01,   2.25062756e-01,\n",
       "        -5.93465897e-01,   1.03265024e+00,   1.24765406e+00,\n",
       "         7.79972452e-01,   7.71258075e-01,   1.05834495e+00,\n",
       "         3.40104173e-01,  -6.46391544e-01,  -1.40957202e+00,\n",
       "        -1.27181833e+00,   4.96479151e-01,  -1.55000699e+00,\n",
       "        -9.77059001e-01,  -1.03142350e+00,  -8.73621586e-01,\n",
       "         5.05694271e-01,   1.21583827e+00,  -1.00030776e+00,\n",
       "        -7.11345302e-01,  -3.91071768e-01,  -1.03830949e-01,\n",
       "        -2.26948682e-01,  -4.49358947e-01,   5.53669697e-01,\n",
       "         1.36689767e-02,  -6.23491370e-01,   3.26092072e-02,\n",
       "         1.08504381e+00,   8.88902709e-02,  -3.93681705e-02,\n",
       "        -1.25401473e-01,  -1.06437100e+00,   9.94394934e-01,\n",
       "         9.01544200e-01,   1.19928971e+00,   4.09253327e-01,\n",
       "         2.23274869e-01,   1.97850138e+00,  -5.84541736e-01,\n",
       "         9.54518383e-01,  -1.12793754e+00,  -3.24881319e-02,\n",
       "        -1.83857601e-01,   2.38482354e+00,   5.21462371e-01,\n",
       "        -1.23439910e+00,  -3.44438520e-01,  -2.60100959e-01,\n",
       "        -3.11305725e-01,   6.52175066e-01,   3.60886138e-01,\n",
       "         1.23354611e+00,  -1.56002323e+00,  -1.86924171e+00,\n",
       "        -2.51032705e-02,  -8.90712472e-01,  -1.62078982e+00,\n",
       "        -4.20946936e-01,  -9.75281181e-01,  -1.43075169e+00,\n",
       "         1.20619500e-01,   8.95160859e-01,  -8.52150014e-01,\n",
       "        -2.35814711e-01,  -9.24496040e-01,  -6.83683725e-01,\n",
       "        -1.27830469e+00,  -1.35642070e+00,   6.29355215e-02,\n",
       "         5.86860090e-01,   7.98899165e-01,  -4.36259900e-01,\n",
       "         1.36070163e+00,  -2.11900093e+00,  -1.13329238e+00,\n",
       "         6.08770996e-01,   1.71862800e+00,   3.69387835e-01,\n",
       "         8.96051779e-01,   6.69721652e-01,  -1.29404698e+00,\n",
       "        -1.77538821e-01,   5.14145781e-01,  -2.22714151e+00,\n",
       "         1.83507614e+00,   2.31520909e-01,   1.38374533e+00,\n",
       "        -9.12853277e-01,   1.12573819e+00,  -5.55583813e-01,\n",
       "        -1.51302582e+00,  -7.18294687e-02,   4.27592586e-01,\n",
       "        -2.47539457e+00,   7.79382692e-01,  -1.19142301e+00,\n",
       "        -8.05663078e-01,   1.12787836e+00,   6.40824131e-01,\n",
       "        -8.15169281e-01,  -3.06798262e-01,  -2.07084600e-01,\n",
       "         2.58347474e-01,   2.08147318e-01,  -1.34041828e+00,\n",
       "         1.87064685e+00,   1.27232849e-01,  -6.36088273e-01,\n",
       "        -1.11841269e+00,  -2.05670521e+00,   6.86714225e-01,\n",
       "        -5.44874735e-02,   1.05393992e-01,   1.27299185e+00,\n",
       "        -1.39498966e+00,  -9.46510780e-01,   3.71587338e-01,\n",
       "        -3.17721765e-01,  -1.14232703e+00,   2.00430498e-01,\n",
       "        -1.73585272e+00,   1.02362556e+00,   1.08830882e+00,\n",
       "         6.61065660e-01,  -8.07412424e-01,   9.41371539e-01,\n",
       "        -3.74981100e-02,   3.08019146e-02,   7.16842790e-01,\n",
       "        -6.30470757e-02,  -1.33869737e+00,  -3.88900256e-01,\n",
       "        -5.99537739e-01,  -1.71068556e+00,  -3.45208114e-01,\n",
       "         1.33704524e-02,   8.99754166e-01,   7.33693044e-01,\n",
       "        -1.25096775e+00,  -6.45172766e-01,  -4.62854289e-03,\n",
       "         1.10525259e-01,   1.50271015e+00,   5.54577954e-01,\n",
       "         2.52320799e-01,   6.67552705e-01,  -1.07501856e+00,\n",
       "        -2.90810816e-01,  -1.82539652e+00,   3.06403168e-02,\n",
       "        -2.91043791e-01,  -2.95938869e-02,  -8.80339498e-02,\n",
       "         1.15004424e-01,   4.08961754e-01,   2.05399572e-01,\n",
       "         1.78886071e-01,  -6.43860973e-02,  -7.56302402e-01,\n",
       "         2.19452086e-01,   4.64310173e-01,  -1.98151052e-01,\n",
       "        -2.82314416e-01,   1.71258943e-01,  -4.53904684e-01,\n",
       "        -1.79102930e+00,  -8.28717750e-01,   4.22515361e-01,\n",
       "        -2.81687209e-02,   1.38840456e+00,   2.08285425e+00,\n",
       "         1.16954379e+00,   5.02898007e-01,   1.88886574e+00,\n",
       "        -1.29395568e+00,  -9.01344130e-01,   8.61875556e-01,\n",
       "        -1.35815965e+00,   1.72481566e-01,   4.91034565e-01,\n",
       "         1.47369922e+00,  -3.30122808e-02,   4.89079635e-02,\n",
       "         7.92639378e-01,   3.00721640e-03,  -2.36892388e+00,\n",
       "         8.57140259e-01,  -3.29750570e-01,   1.77450909e+00,\n",
       "         3.49579768e-02,   1.24988957e+00,  -1.43107723e+00,\n",
       "         1.30473846e-02,   1.00534029e+00,  -5.08783852e-01,\n",
       "        -6.50973634e-01,   2.82377604e-01,   6.30431923e-01,\n",
       "        -3.82995561e-01,   1.40491145e-01,   1.59093830e-01,\n",
       "        -4.07491466e-01,  -1.21308044e+00,   3.90743785e-01,\n",
       "        -1.17862581e+00,  -1.56633326e+00,   3.41095611e-01,\n",
       "        -9.11921865e-01,  -3.14780178e-01,   9.52550857e-01,\n",
       "        -4.09854490e-01,   3.22187986e+00,  -6.40282393e-01,\n",
       "        -1.49937890e-01,   6.52327026e-01,   5.06824076e-01,\n",
       "        -2.52792584e-01,  -3.12376600e-01,   1.42016438e+00,\n",
       "        -5.40411114e-01,  -2.58765224e-01,  -5.22284527e-01,\n",
       "         1.32864387e+00,   1.13026929e-01,  -9.84709255e-01,\n",
       "         3.96692806e-01,  -1.06742038e+00,   7.10683745e-01,\n",
       "         6.49450319e-01,   1.01051758e+00,   1.35952322e+00,\n",
       "        -1.79861148e+00,  -6.20859457e-01,  -6.39811613e-01,\n",
       "         1.58441062e-01,   7.34175149e-01,  -1.85210949e+00,\n",
       "         3.82896430e-01,  -8.77821659e-01,   4.52751951e-01,\n",
       "         1.56651019e+00,   1.89185729e+00,  -1.59448136e+00,\n",
       "        -8.90097876e-01,   4.75547001e-01,   7.35496089e-02,\n",
       "        -7.12862421e-01,   3.85873955e-02,  -9.41240762e-01,\n",
       "         9.43162621e-01,  -1.08799938e+00,  -1.39911797e-01,\n",
       "        -9.18229682e-01,  -1.37296292e+00,   4.79363907e-01,\n",
       "        -1.30615704e-01,   7.05125131e-01,  -1.15312715e+00,\n",
       "        -5.08249254e-01,   7.61917649e-01,   1.12520899e+00,\n",
       "         4.97440062e-01,  -1.18732708e+00,  -2.36152251e-01,\n",
       "        -1.03538350e+00,   3.10382688e+00,  -1.09320350e+00,\n",
       "        -8.67035757e-01,   9.53034460e-01,  -3.87170916e-01,\n",
       "         1.47152332e+00,  -1.87006727e-01,  -1.27025921e+00,\n",
       "         7.99039087e-01,  -3.41196251e-01,  -1.48405503e-02,\n",
       "        -4.92734393e-01,  -8.28513520e-01,   2.88071242e-01,\n",
       "        -1.52922990e+00,  -1.41486543e+00,   6.93574034e-01,\n",
       "         6.04139858e-01,  -2.65731573e-02,  -8.70362172e-01,\n",
       "         1.00263354e-01,  -1.13449367e-01,  -3.98704638e-01,\n",
       "        -1.84691443e+00,   9.13137943e-01,   5.56471366e-01,\n",
       "         5.13740644e-01,  -6.96916131e-02,   2.75979384e-01,\n",
       "         1.93953584e+00,   1.04455181e+00,   5.83119415e-01,\n",
       "        -1.29576989e+00,  -1.15861861e+00,   8.81874375e-01,\n",
       "        -1.88975412e+00,   1.38115415e+00,  -1.34380927e+00,\n",
       "         4.13846924e-01,  -3.11816186e-02,   6.74918892e-01,\n",
       "        -4.71143104e-01,   4.16722984e-01,  -1.73397565e-01,\n",
       "         1.90715950e+00,   5.06970816e-01,   5.14738004e-01,\n",
       "         5.00134050e-01,  -1.48866813e+00,   1.96839293e-01,\n",
       "         1.93548188e+00,  -1.14547127e-01,   1.34654734e+00,\n",
       "         7.83043020e-01,  -1.14536803e+00,   8.68997423e-01,\n",
       "        -6.32476465e-01,   2.97561989e-01,   9.00999104e-01,\n",
       "        -3.54531783e-01,  -1.38430465e+00,   1.26315279e+00,\n",
       "        -1.32230459e+00,  -8.28045874e-01,   1.22998342e+00,\n",
       "        -2.15089414e-01,   6.56893765e-01,   2.09208941e+00,\n",
       "         1.23580585e+00,  -4.77814281e-01,   2.67747661e-01,\n",
       "        -2.39124568e-02,  -1.18120446e+00,   9.12530987e-01,\n",
       "         8.51855264e-03,  -1.12448397e+00,   6.14520852e-01,\n",
       "         3.40402471e-01,   1.40390718e-01,   1.11486439e+00,\n",
       "         6.02786053e-01,  -1.20596919e+00,   2.54686124e-01,\n",
       "         3.40734259e-01,   4.27616918e-01,   7.96140203e-01,\n",
       "         3.29097490e-01,  -1.80876324e-01,  -1.96019927e+00,\n",
       "        -3.25777413e-02,  -1.36464442e-01,  -1.46967098e+00,\n",
       "         5.70230191e-01,   4.36489138e-01,   7.77348881e-01,\n",
       "        -9.50688292e-01,  -4.46334798e-01,  -6.18670397e-01,\n",
       "         4.39802801e-01,   8.35917376e-01,   7.91693760e-01,\n",
       "        -8.27781029e-01,  -2.14054310e+00,   2.47110484e+00,\n",
       "        -8.73091582e-01,  -6.11174617e-01,   1.08723190e+00,\n",
       "         2.13203265e+00,  -1.01463824e+00,   1.28064302e+00,\n",
       "        -1.15658492e+00,   1.00024875e+00,   1.12996155e+00,\n",
       "        -1.60008939e+00,  -1.62246750e+00,   8.21927445e-01,\n",
       "        -1.42184990e-02,  -5.69161703e-01,   7.56802114e-01,\n",
       "        -5.93046661e-01,  -4.77595001e-01,  -6.81273811e-01,\n",
       "        -8.04196281e-01,  -3.64356008e-01,  -9.03905708e-01,\n",
       "        -5.78708195e-01,   3.89898722e-01,  -1.65691834e+00,\n",
       "         1.67388154e+00,   5.76394583e-02,   3.43165934e-02,\n",
       "        -8.93940686e-01,  -8.07340221e-02,   3.92279173e-02,\n",
       "        -1.26478349e+00,  -1.56981403e+00,   2.34229243e+00,\n",
       "         4.33891299e-01,   5.99627923e-01,   2.96975950e+00,\n",
       "        -1.15023774e+00,   7.89178988e-01,  -1.53801986e+00,\n",
       "        -8.33316479e-01,   1.38445820e-01,   5.42230399e-01,\n",
       "        -2.06478761e+00,  -3.41343817e-01,   6.65823355e-01,\n",
       "        -3.48048764e-01,   1.92748250e+00,   1.04646941e-01,\n",
       "         4.49492901e-01,   3.92369058e-01,  -1.07614855e+00,\n",
       "        -5.62709329e-01,  -9.26670960e-01,  -1.88100545e+00,\n",
       "        -5.67247009e-01,   8.41852168e-02,  -2.21918378e-01,\n",
       "         1.20663451e+00,  -2.36557362e-01,  -3.52963258e-01,\n",
       "         1.16600073e+00,   4.50333514e-02,  -7.57670876e-01,\n",
       "         4.85841868e-01,  -4.96230108e-01,  -1.95377234e-01,\n",
       "         1.15657793e+00,   2.06656256e-01,   2.14100853e-01,\n",
       "         9.00785100e-03,   1.53764752e-01,  -9.45007140e-01,\n",
       "        -1.66002338e-01,   3.02426027e-01,  -1.54300689e-01,\n",
       "        -9.26836658e-01,  -2.58997648e+00,   1.76844386e+00,\n",
       "        -7.72767196e-01,  -1.26144893e+00,  -3.81834983e-01,\n",
       "        -2.21142378e+00,  -1.27967502e+00,   1.01724451e+00,\n",
       "         8.71897787e-01,   7.22848249e-01,   8.39235348e-01,\n",
       "         2.44419438e-01,  -4.77097118e-01,   9.60917305e-01,\n",
       "        -7.63539388e-01,   3.21868586e-01,  -1.46950232e+00,\n",
       "        -2.82512246e-01,   1.25070621e+00,  -1.05958066e+00,\n",
       "        -7.86402351e-01,  -3.30304863e-01,   5.93588276e-02,\n",
       "         3.15437955e-01,   1.66214770e+00,  -2.95751100e-01,\n",
       "        -4.77538685e-01,  -1.28586382e-01,  -5.31219704e-01,\n",
       "        -1.37577111e+00,   9.77238957e-01,   6.33363893e-01,\n",
       "         1.59528131e+00,   2.14901189e+00,  -9.75152346e-01,\n",
       "        -5.59573926e-01,  -8.58143845e-01,  -4.18130399e-01,\n",
       "         1.52866264e-01,   2.22434916e+00,   8.33126527e-01,\n",
       "         9.24163826e-01,  -4.61649128e-01,   1.07550091e+00,\n",
       "         1.79602171e-01,   4.80819628e-01,  -2.17729976e-01,\n",
       "        -6.30966438e-01,  -1.16786495e-01,   7.50639944e-02,\n",
       "         7.89465673e-01,  -1.55708889e+00,   9.07488840e-01,\n",
       "         1.03487876e-02,   8.35904292e-01,   1.02829207e+00,\n",
       "        -6.68846327e-01,   5.06065803e-01,   1.21722230e+00,\n",
       "        -7.42170075e-01,  -5.03763106e-01,  -4.46792056e-01,\n",
       "        -1.51214537e+00,  -1.12309539e-01,  -3.58301257e-01,\n",
       "         8.04631740e-01,   1.75206601e+00,   1.36131601e+00,\n",
       "         9.27149977e-01,   5.71517589e-02,   6.49610050e-01,\n",
       "        -3.01133167e-01,  -3.74255917e-01,  -6.83306829e-01,\n",
       "         1.32888875e+00,  -7.75211703e-01,   1.12878673e+00,\n",
       "        -4.60170656e-01,   8.93153487e-01,   6.61156784e-01,\n",
       "         1.39903782e-01,  -1.18093390e+00,  -1.60926426e+00,\n",
       "        -2.45094535e-01,   1.32353192e+00,   3.72194679e-01,\n",
       "         4.63498407e-01,  -6.50203776e-01,  -8.55503024e-01,\n",
       "         1.09881498e+00,   1.35995850e+00,  -1.02146436e+00,\n",
       "        -7.31503126e-01,   8.02587497e-01,   1.07375822e+00,\n",
       "         2.84836554e+00,   8.08139190e-01,  -6.79590164e-01,\n",
       "         8.93166626e-01,   2.97302047e+00,   2.17626461e+00,\n",
       "         2.04307764e-01,   1.42316520e+00,   7.07936079e-01,\n",
       "        -1.08491918e-01,  -3.88618267e-02,  -2.68347023e-01,\n",
       "         8.13500922e-01,  -4.55170233e-02,   3.28627925e-01,\n",
       "         2.25914206e-01,  -3.78096607e-01,  -2.24542993e-01,\n",
       "         9.24429754e-01,   5.22364098e-02,  -1.84174198e-01,\n",
       "         1.03846809e-01,   1.25657312e+00,  -5.06495217e-01,\n",
       "        -6.40539850e-01,   1.19217247e-01,   1.23230828e-02,\n",
       "         9.20887366e-01,  -9.99964766e-01,  -4.04197636e-01,\n",
       "        -1.00959095e+00,  -1.37702954e-01,  -6.13499985e-01,\n",
       "         8.45820041e-02,   3.95810274e-01,   5.17659665e-01,\n",
       "        -8.20784944e-01,  -6.50328636e-01,  -3.10992342e-01,\n",
       "         2.60050135e-01,  -6.73846519e-01,   1.39249907e+00,\n",
       "        -1.65181504e+00,  -5.30774563e-01,   8.34814329e-01,\n",
       "        -2.29922731e-01,   4.29380863e-01,   7.92885042e-01,\n",
       "         1.45144820e+00,  -2.48810270e+00,   2.08955973e-01,\n",
       "        -1.86485590e+00,  -2.72932250e-01,  -8.54237747e-01,\n",
       "        -1.21187074e+00,   8.38126344e-01,   1.19264348e+00,\n",
       "         7.09885014e-01,  -6.23449784e-02,   7.85028452e-01,\n",
       "        -7.57904865e-01,   7.77408901e-02,  -2.06843560e-02,\n",
       "        -4.37573214e-01,   1.44611741e-01,   1.37220010e+00,\n",
       "         7.36416272e-01,  -1.87904056e-01,   1.61947928e+00,\n",
       "         5.34817967e-01,  -1.58527509e+00,   1.19636598e+00,\n",
       "        -1.17270299e-01,   2.04538797e+00,   1.63601909e+00,\n",
       "        -3.74394418e-01,   4.23422865e-01,   3.52360230e+00,\n",
       "        -6.93196394e-02,  -4.84387745e-01,   6.59132462e-01,\n",
       "         7.90991646e-01,   1.74250784e+00,  -2.00221881e+00,\n",
       "        -1.68769880e-01,   7.09560823e-01,  -6.25193133e-01,\n",
       "        -5.65200267e-01,   1.31903795e+00,  -1.42226497e-01,\n",
       "         4.68233341e-01,  -1.28144359e+00,  -2.12807295e-01,\n",
       "         3.90438232e-01,  -9.92193935e-01,   3.13003704e-01,\n",
       "         1.05859784e+00,  -8.03357545e-01,   5.58691394e-01,\n",
       "         7.12299173e-01,  -1.54155953e+00,  -2.16156010e-01,\n",
       "        -2.91206650e-01,  -8.51707589e-01,  -1.08747747e+00,\n",
       "         9.49059506e-01,   3.32150218e-01,  -3.14137837e-01,\n",
       "        -1.27141469e+00,  -9.57470407e-01,  -9.16808139e-01,\n",
       "        -3.36857643e-01,  -7.80112498e-01,  -2.28268401e-01,\n",
       "         1.03861760e+00,  -1.61326756e-01,  -1.65180292e-01,\n",
       "        -2.55324358e-01,   4.82308707e-01,   2.88474638e-01,\n",
       "        -4.57186232e-01,   5.40203446e-02,  -2.23552532e-01,\n",
       "        -5.75018561e-01,  -1.63177969e+00,  -1.74992613e-01,\n",
       "         1.72245183e+00,  -8.16973744e-01,  -1.04326790e-01,\n",
       "        -5.75304029e-02,   8.10465247e-01,  -4.96059051e-01,\n",
       "         2.55635930e-02,   2.00902458e+00,   1.51596609e-01,\n",
       "        -2.81574433e-01,   1.50160465e+00,   6.51830709e-01,\n",
       "         3.96129971e-01,  -7.36356546e-01,   1.46525212e+00,\n",
       "         1.42394697e+00,  -4.41210169e-01,  -1.47235965e+00,\n",
       "         6.13614836e-01])"
      ]
     },
     "execution_count": 29,
     "metadata": {},
     "output_type": "execute_result"
    }
   ],
   "source": [
    "np.random.seed(10)\n",
    "z = np.empty(1000)\n",
    "for i in range(0, 1000):\n",
    "    z[i] = calc_z(st.norm.rvs(loc=100, scale=10, size=1000))\n",
    "z"
   ]
  },
  {
   "cell_type": "code",
   "execution_count": 31,
   "metadata": {},
   "outputs": [
    {
     "data": {
      "image/png": "[encoded data removed]",
      "text/plain": [
       "<matplotlib.figure.Figure at 0x113ba9908>"
      ]
     },
     "metadata": {},
     "output_type": "display_data"
    }
   ],
   "source": [
    "pl.hist(z);"
   ]
  },
  {
   "cell_type": "code",
   "execution_count": 33,
   "metadata": {},
   "outputs": [
    {
     "data": {
      "text/plain": [
       "KstestResult(statistic=0.015500100716127896, pvalue=0.96989408286333612)"
      ]
     },
     "execution_count": 33,
     "metadata": {},
     "output_type": "execute_result"
    }
   ],
   "source": [
    "st.kstest(z,'norm')"
   ]
  },
  {
   "cell_type": "code",
   "execution_count": 35,
   "metadata": {
    "collapsed": true
   },
   "outputs": [],
   "source": [
    "st.kstest?"
   ]
  },
  {
   "cell_type": "code",
   "execution_count": 41,
   "metadata": {},
   "outputs": [
    {
     "data": {
      "text/plain": [
       "array([[ 0.,  0.,  0.],\n",
       "       [ 0.,  0.,  0.]])"
      ]
     },
     "execution_count": 41,
     "metadata": {},
     "output_type": "execute_result"
    }
   ],
   "source": [
    "y = np.zeros((2,3))\n",
    "y"
   ]
  },
  {
   "cell_type": "code",
   "execution_count": null,
   "metadata": {
    "collapsed": true
   },
   "outputs": [],
   "source": []
  }
 ],
 "metadata": {
  "anaconda-cloud": {},
  "kernelspec": {
   "display_name": "Python 3",
   "language": "python",
   "name": "python3"
  },
  "language_info": {
   "codemirror_mode": {
    "name": "ipython",
    "version": 3
   },
   "file_extension": ".py",
   "mimetype": "text/x-python",
   "name": "python",
   "nbconvert_exporter": "python",
   "pygments_lexer": "ipython3",
   "version": "3.6.1"
  },
  "latex_envs": {
   "LaTeX_envs_menu_present": true,
   "bibliofile": "biblio.bib",
   "cite_by": "apalike",
   "current_citInitial": 1,
   "eqLabelWithNumbers": true,
   "eqNumInitial": 1,
   "hotkeys": {
    "equation": "Ctrl-E",
    "itemize": "Ctrl-I"
   },
   "labels_anchors": false,
   "latex_user_defs": false,
   "report_style_numbering": false,
   "user_envs_cfg": false
  },
  "toc": {
   "colors": {
    "hover_highlight": "#DAA520",
    "running_highlight": "#FF0000",
    "selected_highlight": "#FFD700"
   },
   "moveMenuLeft": true,
   "nav_menu": {
    "height": "189px",
    "width": "251px"
   },
   "navigate_menu": true,
   "number_sections": false,
   "sideBar": true,
   "threshold": 4,
   "toc_cell": true,
   "toc_section_display": "block",
   "toc_window_display": true
  }
 },
 "nbformat": 4,
 "nbformat_minor": 1
}
