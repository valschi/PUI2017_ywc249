{
 "cells": [
  {
   "cell_type": "markdown",
   "metadata": {
    "collapsed": true
   },
   "source": [
    "# PUI Fall 2017 HW 5-1\n",
    "### Yuwen Chang (ywc249)\n",
    "### October 2017\n",
    "### Objective: test the Z test"
   ]
  },
  {
   "cell_type": "code",
   "execution_count": 1,
   "metadata": {},
   "outputs": [
    {
     "name": "stdout",
     "output_type": "stream",
     "text": [
      "Populating the interactive namespace from numpy and matplotlib\n"
     ]
    }
   ],
   "source": [
    "from __future__ import print_function, division\n",
    "\n",
    "import numpy as np\n",
    "import pandas as pd\n",
    "import pylab as pl\n",
    "import scipy.stats as st\n",
    "\n",
    "%pylab inline"
   ]
  },
  {
   "cell_type": "code",
   "execution_count": 2,
   "metadata": {},
   "outputs": [
    {
     "data": {
      "image/png": "[encoded data removed]",
      "text/plain": [
       "<matplotlib.figure.Figure at 0x10ea55128>"
      ]
     },
     "metadata": {},
     "output_type": "display_data"
    }
   ],
   "source": [
    "# plot poisson distribution\n",
    "np.random.seed(999)\n",
    "dist_p = st.poisson.rvs(mu=100,size=1000)\n",
    "\n",
    "pl.hist(dist_p)\n",
    "pl.title('Fig 1. Poisson Distribution', fontsize=18)\n",
    "pl.xlabel('')\n",
    "pl.ylabel('frequency', fontsize=14);"
   ]
  },
  {
   "cell_type": "markdown",
   "metadata": {},
   "source": [
    "### Fig 1. Poisson Distribution\n",
    "This is a poisson distribution histogram with a mean of 100"
   ]
  },
  {
   "cell_type": "code",
   "execution_count": 3,
   "metadata": {
    "collapsed": true
   },
   "outputs": [],
   "source": [
    "# create a function for calculating Z\n",
    "def calc_z(sample, mu, std):\n",
    "    \"\"\"Calculates the z score of a given sample\"\"\"\n",
    "    z = np.sqrt(len(sample)) * (mu - sample.mean()) / (std)\n",
    "    return z"
   ]
  },
  {
   "cell_type": "code",
   "execution_count": 4,
   "metadata": {},
   "outputs": [
    {
     "data": {
      "text/plain": [
       "array([  1.30602067e+00,  -4.42718872e-01,   1.35977939e+00,\n",
       "         5.34424925e-01,   1.03090252e+00,   5.34424925e-01,\n",
       "         8.34841302e-01,   8.25354469e-01,   8.44328135e-01,\n",
       "        -6.35617810e-01,  -7.58946638e-01,   2.64998868e+00,\n",
       "        -2.78280434e-01,  -9.96117463e-01,  -9.48683298e-03,\n",
       "        -1.67600716e-01,  -2.34008547e-01,   2.84604989e-02,\n",
       "        -6.70402864e-01,   3.47850543e-02,   3.63661931e-01,\n",
       "         1.65387122e+00,  -3.57337376e-01,  -1.29653384e+00,\n",
       "         5.97670478e-01,  -1.56216516e+00,  -2.43495380e-01,\n",
       "         5.05964426e-02,  -2.57409402e+00,   8.91762300e-01,\n",
       "         7.81082582e-01,   5.50236313e-01,  -6.03995033e-01,\n",
       "         6.00832755e-01,  -1.80249827e-01,   5.18613536e-01,\n",
       "         3.00416378e-01,  -5.50236313e-01,   1.48627050e-01,\n",
       "        -5.05964426e-02,  -1.54951605e+00,  -4.77503927e-01,\n",
       "        -2.29897586e+00,  -2.62469046e-01,   6.64078309e-02,\n",
       "        -5.31262647e-01,   9.23385077e-01,   3.28876877e-01,\n",
       "        -9.83468352e-01,  -1.16371818e+00,   2.81442712e-01,\n",
       "        -5.24938092e-01,   3.79473319e-02,   6.13481866e-01,\n",
       "        -1.96061215e-01,   8.88600023e-01,   6.64078309e-02,\n",
       "         1.06884985e+00,   1.49259506e+00,  -1.02457796e+00,\n",
       "        -1.83412104e-01,   1.51473100e+00,   1.77087549e-01,\n",
       "         1.72660360e+00,   1.94480076e+00,  -6.83051975e-01,\n",
       "        -1.41353811e+00,  -2.15034881e-01,   1.29653384e+00,\n",
       "        -6.07157311e-01,   5.69209979e-02,  -8.53814968e-02,\n",
       "         2.23256803e+00,  -2.52982213e-02,  -3.16227766e-02,\n",
       "         1.28072245e+00,  -1.36610395e+00,  -1.29653384e-01,\n",
       "        -7.39972972e-01,   5.69209979e-01,  -4.01609263e-01,\n",
       "         1.09731035e+00,  -1.48627050e-01,   1.77087549e+00,\n",
       "        -4.33232039e-01,  -3.41525987e-01,  -5.81859089e-01,\n",
       "        -8.22192192e-01,  -9.42358743e-01,  -3.00416378e-01,\n",
       "         1.35977939e-01,  -1.55584061e+00,   2.03966909e+00,\n",
       "        -8.88600023e-01,  -1.35029256e+00,  -6.73565142e-01,\n",
       "         1.42302495e-01,   1.00244202e+00,   1.56216516e+00,\n",
       "         9.96117463e-01,  -1.55900289e+00,   9.26547354e-01,\n",
       "        -1.96061215e-01,   1.08782352e+00,   1.62857299e+00,\n",
       "         1.25542423e+00,   6.64078309e-02,  -9.17060521e-02,\n",
       "        -1.26491106e-02,   4.74341649e-02,  -3.60499653e-01,\n",
       "        -5.88183645e-01,  -4.52205705e-01,   1.13841996e+00,\n",
       "         1.36610395e+00,  -1.54951605e-01,   4.93315315e-01,\n",
       "         9.48683298e-02,  -1.14474451e+00,   6.19806421e-01,\n",
       "         2.74801929e+00,  -7.58946638e-01,  -1.22380145e+00,\n",
       "        -7.55784361e-01,  -1.64438438e-01,   2.10607692e+00,\n",
       "        -2.04283137e+00,  -1.57165200e+00,  -9.48683298e-02,\n",
       "        -1.17952957e+00,   7.39972972e-01,  -8.31679025e-01,\n",
       "         1.09414807e+00,   8.69626357e-01,   3.98446985e-01,\n",
       "        -1.67284488e+00,   2.10291464e+00,  -3.54175098e-01,\n",
       "         2.52982213e-01,   1.76138866e+00,   1.91634026e+00,\n",
       "         1.10679718e-01,  -1.23328829e+00,   8.28516747e-01,\n",
       "        -7.36810695e-01,   1.40721356e+00,  -4.23745206e-01,\n",
       "         9.55007853e-01,   8.94924578e-01,   1.76771321e+00,\n",
       "         1.21747690e+00,  -1.02457796e+00,   1.17004273e+00,\n",
       "         4.33232039e-01,  -6.79889697e-01,  -1.80566054e+00,\n",
       "        -1.00244202e+00,  -3.88960152e-01,  -2.20410753e+00,\n",
       "         1.59695022e+00,   7.49459805e-01,  -8.75950912e-01,\n",
       "         8.82275467e-01,  -1.28388473e+00,   1.76771321e+00,\n",
       "        -5.43911758e-01,  -6.51429198e-01,   1.25226195e+00,\n",
       "        -2.71955879e-01,  -8.53814968e-02,  -6.48266920e-01,\n",
       "        -1.25542423e+00,   8.85437745e-02,   7.49459805e-01,\n",
       "        -6.19806421e-01,   1.86574382e+00,  -3.57337376e-01,\n",
       "        -1.85941926e+00,   9.70819242e-01,  -1.13841996e-01,\n",
       "        -7.65271194e-01,   1.42302495e-01,   2.75118156e-01,\n",
       "         2.62469046e-01,   6.79889697e-01,  -6.26130977e-01,\n",
       "        -7.11512474e-01,   8.69626357e-01,  -7.77920304e-01,\n",
       "         6.16644144e-01,  -9.99279741e-01,   1.35345484e+00,\n",
       "         1.78352460e+00,  -9.48683298e-03,   3.28876877e-01,\n",
       "         3.16227766e-02,  -1.48627050e-01,   1.04038935e+00,\n",
       "         7.39972972e-01,   1.58746339e+00,   9.86630630e-01,\n",
       "         4.04771541e-01,   5.53398591e-01,  -1.23328829e-01,\n",
       "         6.95701085e-01,  -4.17420651e-01,  -6.60916031e-01,\n",
       "        -2.24521714e-01,   5.72372256e-01,  -2.08710326e+00,\n",
       "        -2.08710326e-01,   1.78984916e+00,   1.00560430e+00,\n",
       "         2.08710326e-01,   4.20582929e-01,  -8.94924578e-01,\n",
       "         3.16227766e-03,  -6.26130977e-01,   1.07833668e+00,\n",
       "         2.84604989e-01,   6.00832755e-01,  -2.90929545e-01,\n",
       "         6.19806421e-01,  -4.14258373e-01,  -1.10679718e-01,\n",
       "        -1.82463421e+00,  -4.36394317e-01,   9.23385077e-01,\n",
       "         5.81859089e-01,   5.43911758e-01,   3.03578655e-01,\n",
       "        -1.28072245e+00,   2.03018226e+00,   1.61592388e+00,\n",
       "        -1.78036232e+00,  -4.01609263e-01,   1.35345484e+00,\n",
       "         4.14258373e-01,   4.49043428e-01,   1.10047263e+00,\n",
       "         1.77720005e+00,   9.26547354e-01,  -1.41037584e+00,\n",
       "        -8.00056248e-01,  -4.17420651e-01,  -1.13841996e+00,\n",
       "         3.82635597e-01,   1.97958582e+00,   5.15451259e-01,\n",
       "         5.66047701e-01,   8.06380803e-01,  -8.94924578e-01,\n",
       "        -4.14258373e-01,  -9.67656964e-01,   1.39140217e-01,\n",
       "         1.66335805e+00,  -1.10047263e+00,   1.61908616e+00,\n",
       "        -3.63661931e-01,  -1.39140217e-01,   6.13481866e-01,\n",
       "        -1.35661712e+00,  -6.10319588e-01,  -8.31679025e-01,\n",
       "         1.77087549e-01,   3.79473319e-01,   1.13525768e+00,\n",
       "         3.88960152e-01,  -8.47490413e-01,   1.16371818e+00,\n",
       "        -7.49459805e-01,   1.17004273e+00,   7.96893970e-01,\n",
       "         2.21359436e-02,  -1.48627050e-01,  -1.71711677e+00,\n",
       "        -1.23328829e-01,   3.16227766e-02,   3.16227766e-02,\n",
       "        -1.36294167e+00,  -1.18585412e+00,   1.91001571e+00,\n",
       "        -4.01609263e-01,   1.83412104e-01,  -1.31550751e+00,\n",
       "         8.19029914e-01,   7.27323862e-02,  -1.11312174e+00,\n",
       "         8.91762300e-01,   1.32815662e+00,  -4.58530261e-01,\n",
       "         1.14474451e+00,   5.05964426e-02,   1.12893312e+00,\n",
       "        -7.11512474e-01,  -7.27323862e-02,  -1.40721356e+00,\n",
       "        -1.71079221e+00,   7.68433471e-01,  -5.66047701e-01,\n",
       "        -3.41525987e-01,   1.48627050e-01,  -1.55584061e+00,\n",
       "        -5.85021367e-01,   1.37875306e+00,   8.28516747e-01,\n",
       "         2.15983564e+00,   1.89736660e-01,  -3.63661931e-01,\n",
       "        -8.75950912e-01,  -7.90569415e-02,   6.79889697e-01,\n",
       "         9.96117463e-01,  -8.28516747e-01,  -8.31679025e-01,\n",
       "         1.09098579e+00,  -9.67656964e-01,   1.14158224e+00,\n",
       "         2.75118156e-01,   4.52205705e-01,   7.30486139e-01,\n",
       "        -7.46297528e-01,   3.73148764e-01,  -1.29337156e+00,\n",
       "         1.15106907e+00,  -7.71595749e-01,   1.06252529e+00,\n",
       "         6.03995033e-01,  -5.12288981e-01,  -8.09543081e-01,\n",
       "         8.22192192e-01,  -1.70762994e-01,   5.78696812e-01,\n",
       "        -5.37587202e-01,  -2.35273458e+00,  -1.50524417e+00,\n",
       "        -1.03722707e+00,  -1.48627050e+00,   4.68017094e-01,\n",
       "        -5.75534534e-01,  -1.42302495e-01,  -2.71955879e-01,\n",
       "        -1.10679718e-01,  -3.95284708e-01,   1.28704701e+00,\n",
       "         1.42302495e-01,  -1.58746339e+00,  -2.05548048e-01,\n",
       "         2.52982213e-01,   9.58170131e-01,   1.10995946e+00,\n",
       "         3.79473319e-01,  -1.86574382e+00,  -1.23645057e+00,\n",
       "        -6.92538808e-01,  -1.55584061e+00,   4.61692538e-01,\n",
       "         4.99639870e-01,  -1.15739362e+00,  -1.32183206e+00,\n",
       "         1.60643705e+00,   4.80666204e-01,  -8.22192192e-02,\n",
       "         2.84604989e-01,   4.74341649e-02,   6.51429198e-01,\n",
       "         4.83828482e-01,  -3.57337376e-01,  -1.21747690e+00,\n",
       "         3.32039154e-01,  -6.32455532e-03,  -1.26491106e-02,\n",
       "        -1.58113883e-01,  -1.26491106e-01,  -5.75534534e-01,\n",
       "        -4.61692538e-01,   2.75750612e+00,  -3.92122430e-01,\n",
       "        -4.39556595e-01,   5.37587202e-02,  -1.72976588e+00,\n",
       "         2.62469046e-01,  -3.47850543e-02,  -3.57337376e+00,\n",
       "        -2.60255451e+00,  -1.32815662e+00,  -9.13898244e-01,\n",
       "         5.75534534e-01,   6.51429198e-01,  -5.31262647e-01,\n",
       "         3.13065488e-01,  -4.83828482e-01,   7.08350196e-01,\n",
       "        -6.64078309e-01,   1.61276161e-01,   2.02069542e+00,\n",
       "        -1.25858651e+00,  -1.07517440e-01,  -1.26491106e-02,\n",
       "         1.57797655e+00,   3.82635597e-01,  -1.50208189e+00,\n",
       "        -1.18585412e+00,   1.24909968e+00,   8.25354469e-01,\n",
       "         8.53814968e-02,  -5.40749480e-01,   5.28100369e-01,\n",
       "         4.58530261e-01,   1.95428759e+00,  -7.58946638e-02,\n",
       "         6.26130977e-01,  -6.41942365e-01,   6.64078309e-01,\n",
       "        -1.49891961e+00,   1.32499434e+00,   2.59306768e-01,\n",
       "         1.74241499e+00,   7.58946638e-02,   1.42618722e+00,\n",
       "         1.10047263e+00,   1.07833668e+00,   9.99279741e-01,\n",
       "         1.29020929e+00,  -6.16644144e-01,   6.73565142e-01,\n",
       "         1.86574382e-01,   8.60139524e-01,   8.44328135e-01,\n",
       "         1.57165200e+00,  -1.99223493e-01,   2.75118156e-01,\n",
       "        -5.40749480e-01,   2.84604989e-02,  -1.70762994e-01,\n",
       "         4.71179371e-01,  -1.36610395e+00,   1.45464772e-01,\n",
       "        -1.29653384e-01,  -2.49819935e-01,   1.38191534e+00,\n",
       "         1.26491106e+00,   1.63805983e+00,  -1.54951605e-01,\n",
       "         1.30285840e+00,  -1.55584061e+00,   7.58946638e-01,\n",
       "         1.16688046e+00,   1.32815662e-01,   9.80306075e-02,\n",
       "        -5.09126703e-01,  -7.46297528e-01,  -1.23012601e+00,\n",
       "        -1.43883634e+00,  -1.96061215e-01,   6.41942365e-01,\n",
       "         1.12577085e+00,   1.65070894e+00,  -3.16227766e-03,\n",
       "        -4.49043428e-01,  -4.07933818e-01,   3.03578655e-01,\n",
       "         6.07157311e-01,   5.37587202e-02,   2.37170825e-01,\n",
       "         6.26130977e-01,   5.43911758e-01,   6.03995033e-01,\n",
       "         6.03995033e-01,  -1.40721356e+00,  -1.78352460e+00,\n",
       "         4.14258373e-01,   5.21775814e-01,   1.19850323e+00,\n",
       "         9.13898244e-01,   5.66047701e-01,   4.42718872e-02,\n",
       "         5.34424925e-01,  -1.23012601e+00,   7.93731693e-01,\n",
       "        -9.51845576e-01,  -1.28388473e+00,  -1.18901640e+00,\n",
       "         1.10995946e+00,  -1.20482779e+00,  -2.24521714e+00,\n",
       "        -3.79473319e-01,  -2.59306768e-01,  -1.45148545e+00,\n",
       "        -2.37170825e-01,   1.23328829e-01,   9.77143797e-01,\n",
       "         8.60139524e-01,   4.36394317e-01,   3.57337376e-01,\n",
       "        -1.00876657e+00,   5.72372256e-01,  -2.75118156e-01,\n",
       "        -4.33232039e-01,   1.06252529e+00,   6.32455532e-03,\n",
       "         4.90153037e-01,  -4.33232039e-01,  -5.05964426e-01,\n",
       "        -7.24161584e-01,  -1.13841996e+00,   5.81859089e-01,\n",
       "        -2.07129187e+00,  -4.26907484e-01,   1.41670039e+00,\n",
       "        -7.90569415e-01,   1.12260857e+00,   4.23745206e-01,\n",
       "         3.13065488e-01,   2.17880931e+00,   1.52738011e+00,\n",
       "         3.63661931e-01,  -9.83468352e-01,  -1.77087549e-01,\n",
       "        -1.04355163e+00,   1.39140217e-01,   4.17420651e-01,\n",
       "        -1.06884985e+00,   3.00100150e+00,  -5.37587202e-02,\n",
       "         9.83468352e-01,  -5.40749480e-01,  -3.16227766e-01,\n",
       "        -1.42302495e-01,  -1.61276161e-01,  -9.29709632e-01,\n",
       "         4.55367983e-01,   3.03578655e-01,   1.25542423e+00,\n",
       "         5.37587202e-02,   1.59695022e+00,   6.19806421e-01,\n",
       "        -1.97958582e+00,  -5.15451259e-01,   1.99539720e+00,\n",
       "         5.94508200e-01,   9.55007853e-01,   6.29293254e-01,\n",
       "         1.36926623e+00,  -2.24521714e-01,  -1.23328829e-01,\n",
       "         1.63805983e+00,  -1.11628401e+00,  -8.44328135e-01,\n",
       "         8.50652691e-01,  -1.91950254e+00,  -3.32039154e-01,\n",
       "        -2.49819935e-01,  -5.72372256e-01,  -2.43495380e-01,\n",
       "        -1.86574382e-01,   1.74241499e+00,   1.09098579e+00,\n",
       "         5.37587202e-02,  -4.26907484e-01,  -3.54175098e-01,\n",
       "         2.20094525e+00,   1.48943278e+00,  -1.25542423e+00,\n",
       "        -2.01753315e+00,  -1.37242850e+00,   1.10995946e+00,\n",
       "         8.03218526e-01,  -8.60139524e-01,  -1.04355163e+00,\n",
       "         8.15867636e-01,   2.40333102e-01,  -1.61908616e+00,\n",
       "        -3.60499653e-01,  -1.79933599e+00,   3.69986486e-01,\n",
       "        -1.02457796e+00,   2.97254100e-01,  -1.16371818e+00,\n",
       "         8.56977246e-01,   4.74341649e-02,   4.55367983e-01,\n",
       "         3.82635597e-01,  -3.16227766e-01,  -1.70130538e+00,\n",
       "         1.93531393e+00,   7.36810695e-01,  -5.66047701e-01,\n",
       "         5.59723146e-01,   3.85797875e-01,   9.36034187e-01,\n",
       "         2.94091822e-01,   2.62469046e-01,   1.13209540e+00,\n",
       "        -3.16227766e-01,   1.84677015e+00,   5.75534534e-01,\n",
       "        -5.24938092e-01,  -4.42718872e-01,  -1.24593740e+00,\n",
       "        -1.36294167e+00,  -1.25858651e+00,  -1.17004273e-01,\n",
       "         9.99279741e-01,   1.16055590e+00,   8.91762300e-01,\n",
       "         1.61276161e-01,  -2.46657657e-01,   4.74341649e-01,\n",
       "         1.40088900e+00,   6.07157311e-01,  -1.13841996e+00,\n",
       "         8.09543081e-01,   3.82635597e-01,   1.23645057e+00,\n",
       "         9.17060521e-01,  -7.52622083e-01,  -7.52622083e-01,\n",
       "        -8.53814968e-01,   1.83412104e-01,  -1.01825341e+00,\n",
       "        -3.16227766e-02,  -1.87523065e+00,   1.99223493e-01,\n",
       "        -3.76311042e-01,   6.03995033e-01,  -2.02069542e+00,\n",
       "         3.44688265e-01,   5.31262647e-01,   6.64078309e-01,\n",
       "        -4.42718872e-01,  -5.78696812e-01,   1.07517440e-01,\n",
       "         4.77503927e-01,   3.85797875e-01,   7.33648417e-01,\n",
       "        -6.32455532e-01,   1.19534096e+00,  -3.16227766e-02,\n",
       "        -6.48266920e-01,  -6.32455532e-03,  -1.25542423e+00,\n",
       "         9.80306075e-01,  -1.78984916e+00,  -6.00832755e-02,\n",
       "         1.13841996e-01,   1.73925271e+00,  -2.87767267e-01,\n",
       "         7.24161584e-01,  -1.07517440e-01,  -8.19029914e-01,\n",
       "        -7.77920304e-01,  -1.92898937e-01,  -5.94508200e-01,\n",
       "        -1.68233172e+00,   1.04671391e+00,  -7.17837029e-01,\n",
       "        -5.37587202e-02,  -1.35977939e+00,   1.45148545e+00,\n",
       "        -4.33232039e-01,   4.11096096e-01,   1.28388473e+00,\n",
       "        -1.76138866e+00,  -4.86990760e-01,  -1.01509113e+00,\n",
       "        -7.81082582e-01,  -5.69209979e-02,   1.64122211e+00,\n",
       "         1.54951605e-01,   1.35661712e+00,  -7.36810695e-01,\n",
       "         2.14718653e+00,  -6.00832755e-02,  -1.61276161e-01,\n",
       "         1.15106907e+00,   1.99855948e+00,   1.25226195e+00,\n",
       "         5.47074035e-01,   5.62885424e-01,   1.07833668e+00,\n",
       "        -1.67600716e-01,   1.20166551e-01,  -1.70130538e+00,\n",
       "        -6.57753753e-01,   3.13065488e-01,   5.21775814e-01,\n",
       "         6.64078309e-01,  -2.28000219e+00,   4.93315315e-01,\n",
       "         3.25714599e-01,   7.87407137e-01,  -1.82779649e+00,\n",
       "        -1.06252529e+00,  -1.51473100e+00,   9.17060521e-02,\n",
       "        -1.49891961e+00,  -8.56977246e-01,  -6.00832755e-01,\n",
       "         1.44199861e+00,  -1.80882282e+00,   7.58946638e-02,\n",
       "        -8.38003580e-01,   7.68433471e-01,  -2.99467694e+00,\n",
       "         7.27323862e-02,   5.12288981e-01,   1.17004273e-01,\n",
       "         1.58430111e+00,   7.27323862e-02,  -3.16227766e-01,\n",
       "         8.50652691e-01,   5.02802148e-01,  -8.72788634e-01,\n",
       "         8.06380803e-01,  -1.77087549e-01,  -2.20410753e+00,\n",
       "        -8.85437745e-01,   1.70762994e-01,   1.13209540e+00,\n",
       "        -1.35977939e+00,   1.07517440e-01,  -2.28000219e+00,\n",
       "        -3.69986486e-01,   2.04915592e+00,  -9.26547354e-01,\n",
       "        -2.55195807e+00,  -7.62108916e-01,  -4.71179371e-01,\n",
       "        -1.89736660e-02,  -3.76311042e-01,   1.89736660e-01,\n",
       "        -1.70762994e-01,  -1.09414807e+00,   8.22192192e-02,\n",
       "        -8.22192192e-02,   1.70762994e+00,  -6.41942365e-01,\n",
       "        -4.14258373e-01,  -1.97326126e+00,   4.39556595e-01,\n",
       "        -1.20166551e-01,  -1.26491106e-02,   1.23328829e-01,\n",
       "         3.85797875e-01,   1.09414807e+00,  -8.56977246e-01,\n",
       "         1.49259506e+00,  -3.69986486e-01,   1.34080573e+00,\n",
       "         2.37170825e-01,   2.05548048e-01,   8.85437745e-02,\n",
       "         5.88183645e-01,  -3.13065488e-01,  -1.98591037e+00,\n",
       "         1.82779649e+00,  -5.91345922e-01,   1.70762994e-01,\n",
       "         3.54175098e-01,  -1.62224844e+00,  -1.56848972e+00,\n",
       "         1.07517440e-01,  -1.38191534e+00,   5.24938092e-01,\n",
       "         6.45104643e-01,   7.93731693e-01,  -1.26491106e-01,\n",
       "        -6.32455532e-01,  -3.41525987e-01,  -1.19534096e+00,\n",
       "         1.70762994e-01,   4.58530261e-01,   9.73981519e-01,\n",
       "         2.11872603e-01,  -5.12288981e-01,   1.08782352e+00,\n",
       "         1.07517440e+00,   3.63661931e-01,   2.24521714e-01,\n",
       "         1.01192885e+00,  -1.48310822e+00,   2.05548048e-01,\n",
       "        -1.41986267e+00,   6.54591476e-01,   1.38507762e+00,\n",
       "         1.06568757e+00,   1.51789328e+00,  -5.47074035e-01,\n",
       "        -6.41942365e-01,   7.17837029e-01,   1.23328829e+00,\n",
       "         7.39972972e-01,  -5.37587202e-01,   5.21775814e-01,\n",
       "        -8.75950912e-01,  -1.61908616e+00,   1.86258154e+00,\n",
       "         2.25154169e+00,   1.96061215e-01,   1.91634026e+00,\n",
       "        -6.19806421e-01,   1.60643705e+00,   4.74341649e-01,\n",
       "         1.82779649e+00,   1.99223493e-01,  -4.17420651e-01,\n",
       "         5.59723146e-01,  -1.15739362e+00,   7.87407137e-01,\n",
       "        -1.48310822e+00,   1.70762994e-01,  -2.28632675e+00,\n",
       "        -2.22308120e+00,  -1.48627050e+00,  -9.51845576e-01,\n",
       "        -3.25714599e-01,  -6.32455532e-03,   4.90153037e-01,\n",
       "         4.77503927e-01,  -3.25714599e-01,  -1.07833668e+00,\n",
       "        -8.22192192e-02,   4.33232039e-01,  -4.71179371e-01,\n",
       "         1.67916944e+00,   2.94091822e-01,   4.11096096e-01,\n",
       "        -3.25714599e-01,  -1.48627050e-01,  -4.42718872e-02,\n",
       "        -3.06740933e-01,   1.01192885e+00,   1.89104204e+00,\n",
       "        -3.57337376e-01,   0.00000000e+00,  -1.69814310e+00,\n",
       "        -1.57165200e+00,   1.19217868e+00,  -2.66896235e+00,\n",
       "        -1.23012601e+00,  -2.40016874e+00,  -8.85437745e-02,\n",
       "         8.91762300e-01,   4.11096096e-02,  -2.71955879e-01,\n",
       "        -2.07761642e+00,  -9.07573688e-01,   1.11944629e+00,\n",
       "        -1.35977939e-01,  -5.81859089e-01,  -7.36810695e-01,\n",
       "        -1.07833668e+00,   2.37170825e-01,  -5.34424925e-01,\n",
       "         2.03650681e+00,  -4.83828482e-01,   4.30069762e-01,\n",
       "        -1.64438438e-01,  -4.58530261e-01,  -9.96117463e-01,\n",
       "        -1.38507762e+00,   1.64438438e+00,  -1.13525768e+00,\n",
       "         7.77920304e-01,  -2.68793601e-01,  -4.33232039e-01,\n",
       "        -1.00244202e+00,  -8.09543081e-01,  -2.24521714e-01,\n",
       "         4.23745206e-01,   5.78696812e-01,  -1.17636729e+00,\n",
       "        -2.90929545e-01,   5.47074035e-01,   4.68017094e-01,\n",
       "         8.85437745e-01,  -1.29653384e-01,   2.84604989e-01,\n",
       "        -3.76311042e-01,  -4.11096096e-01,  -2.71955879e-01,\n",
       "         1.33131889e+00,  -1.80249827e-01,   1.12577085e+00,\n",
       "         9.92955185e-01,  -1.46413456e+00,   3.35201432e-01,\n",
       "         8.85437745e-02,  -3.16227766e-02,   9.48683298e-03,\n",
       "        -1.14158224e+00,  -2.22624347e+00,  -6.86214252e-01,\n",
       "         1.45781000e+00,   1.22380145e+00,  -5.56560868e-01,\n",
       "        -1.35029256e+00,  -3.54175098e-01,  -8.38003580e-01,\n",
       "        -5.69209979e-02,  -1.61276161e-01,   1.23012601e+00,\n",
       "         3.47850543e-01,  -4.83828482e-01,   1.07833668e+00,\n",
       "        -6.16644144e-01,  -6.13481866e-01,   1.41670039e+00,\n",
       "        -1.02457796e+00,   2.84604989e-01,  -1.59695022e+00,\n",
       "        -3.85797875e-01,  -7.58946638e-01,  -1.32815662e-01,\n",
       "         7.58946638e-02,  -5.91345922e-01,   1.00244202e+00,\n",
       "         9.42358743e-01,  -1.36926623e+00,  -1.73292816e+00,\n",
       "         1.56532744e+00,   1.83412104e+00,   6.73565142e-01,\n",
       "         1.17320501e+00,  -4.68017094e-01,  -9.77143797e-01,\n",
       "        -1.53686694e+00,  -1.26491106e-02,  -1.48627050e-01,\n",
       "         2.97254100e-01,  -8.31679025e-01,  -1.99223493e-01,\n",
       "         8.69626357e-01,  -4.36394317e-01,  -3.32039154e-01,\n",
       "         4.68017094e-01,   4.26907484e-01,   6.76727419e-01,\n",
       "        -8.85437745e-01,  -1.38823989e+00,  -1.22063918e+00,\n",
       "         7.52622083e-01,  -1.25542423e+00,   4.45881150e-01,\n",
       "        -1.99223493e-01,   2.65631323e-01,   1.86574382e-01,\n",
       "        -7.46297528e-01,  -1.17004273e-01,  -1.60643705e+00,\n",
       "         1.48627050e-01,   5.09126703e-01,   1.23961284e+00,\n",
       "         1.27756017e+00,  -4.11096096e-01,   1.38823989e+00,\n",
       "         9.04411411e-01,  -1.31866978e+00,   8.12705359e-01,\n",
       "         4.20582929e-01,  -1.18901640e+00,   3.09903211e-01,\n",
       "         1.99223493e-01,   9.29709632e-01,  -1.37875306e+00,\n",
       "         1.33764345e+00,   1.73925271e+00,  -7.58946638e-02,\n",
       "         8.72788634e-01,  -5.15451259e-01,   1.12577085e+00,\n",
       "         9.70819242e-01,  -1.09731035e+00,   2.59306768e-01,\n",
       "         1.01192885e-01,   1.09414807e+00,  -9.01249133e-01,\n",
       "         1.11944629e+00,   6.16644144e-01,   3.44688265e-01,\n",
       "        -6.32455532e-01,  -3.09903211e-01,   7.90569415e-02,\n",
       "         2.30846269e-01,  -6.89376530e-01,   6.19806421e-01,\n",
       "         1.26491106e-02,   1.24909968e+00,   1.54002922e+00,\n",
       "         2.56144490e-01,  -2.02385770e-01,   2.09026553e+00,\n",
       "         5.37587202e-02,  -1.26174879e+00,  -5.69209979e-02,\n",
       "        -1.51789328e-01,   1.73292816e+00,  -3.79473319e-02,\n",
       "         6.19806421e-01])"
      ]
     },
     "execution_count": 4,
     "metadata": {},
     "output_type": "execute_result"
    }
   ],
   "source": [
    "# calculate z scores and means for 1,000 poisson samples\n",
    "np.random.seed(999)\n",
    "z = np.zeros(1000)\n",
    "means = np.zeros(1000)\n",
    "\n",
    "size = 1000\n",
    "mu = 100\n",
    "std = np.sqrt(mu)\n",
    "\n",
    "for i in range(0, 1000):\n",
    "    poisson = st.poisson.rvs(mu=mu,size=size)\n",
    "    z[i] = calc_z(poisson, mu, std)\n",
    "    means[i] = poisson.mean()\n",
    "\n",
    "z"
   ]
  },
  {
   "cell_type": "code",
   "execution_count": 5,
   "metadata": {},
   "outputs": [
    {
     "data": {
      "image/png": "[encoded data removed]",
      "text/plain": [
       "<matplotlib.figure.Figure at 0x111e41198>"
      ]
     },
     "metadata": {},
     "output_type": "display_data"
    }
   ],
   "source": [
    "# plot one of the samples\n",
    "pl.hist(poisson)\n",
    "pl.title('Fig 2. Sample of a Poisson Distribution ($\\lambda = 100$)', fontsize=18)\n",
    "pl.xlabel('')\n",
    "pl.ylabel('frequency', fontsize=14);"
   ]
  },
  {
   "cell_type": "markdown",
   "metadata": {},
   "source": [
    "### Fig 2. Sample of a Poisson Distribution ($\\lambda = 100$)\n",
    "This is the poisson distribution of the last sample from the previous sampling. Looks like a normal distribution."
   ]
  },
  {
   "cell_type": "code",
   "execution_count": 6,
   "metadata": {},
   "outputs": [
    {
     "data": {
      "image/png": "[encoded data removed]",
      "text/plain": [
       "<matplotlib.figure.Figure at 0x111e11320>"
      ]
     },
     "metadata": {},
     "output_type": "display_data"
    }
   ],
   "source": [
    "# plot the distribution of z statistics\n",
    "pl.hist(z);\n",
    "pl.title('Fig 3. Distribution of z scores', fontsize=18)\n",
    "pl.xlabel('z score', fontsize=14)\n",
    "pl.ylabel('frequency', fontsize=14);"
   ]
  },
  {
   "cell_type": "markdown",
   "metadata": {},
   "source": [
    "### Fig 3. Distribution of z scores\n",
    "This is the distribution of the z-scores of all samples from the previous sampling. Looks like a normal distribution."
   ]
  },
  {
   "cell_type": "code",
   "execution_count": 7,
   "metadata": {},
   "outputs": [
    {
     "data": {
      "text/plain": [
       "KstestResult(statistic=0.026043961659314108, pvalue=0.50629355480767047)"
      ]
     },
     "execution_count": 7,
     "metadata": {},
     "output_type": "execute_result"
    }
   ],
   "source": [
    "# assess the goodnes of fit against the Gaussian model with KS test\n",
    "st.kstest(z,'norm')"
   ]
  },
  {
   "cell_type": "markdown",
   "metadata": {},
   "source": [
    "### With a KS test, we have a high p-value (0.506) that exceeds 0.05; therefore, we are not able to reject the null hypothesis that the two distributions are identical. In other words, we can not deny that the z-score distribution is identical to the normal distribution under the significance level of 0.05. We may say they are identical for now."
   ]
  },
  {
   "cell_type": "code",
   "execution_count": 8,
   "metadata": {
    "collapsed": true,
    "scrolled": true
   },
   "outputs": [],
   "source": [
    "# find the best fit values for the model parameters (mean and standard deviation) by minimizing the model chi square."
   ]
  }
 ],
 "metadata": {
  "kernelspec": {
   "display_name": "Python 3",
   "language": "python",
   "name": "python3"
  },
  "language_info": {
   "codemirror_mode": {
    "name": "ipython",
    "version": 3
   },
   "file_extension": ".py",
   "mimetype": "text/x-python",
   "name": "python",
   "nbconvert_exporter": "python",
   "pygments_lexer": "ipython3",
   "version": "3.6.1"
  }
 },
 "nbformat": 4,
 "nbformat_minor": 2
}
