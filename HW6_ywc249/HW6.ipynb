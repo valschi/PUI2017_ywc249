{
 "cells": [
  {
   "cell_type": "markdown",
   "metadata": {
    "run_control": {
     "frozen": false,
     "read_only": false
    }
   },
   "source": [
    "# PUI Fall 2017 HW 6\n",
    "### Yuwen Chang (ywc249)\n",
    "### October 2017\n",
    "### Objective:"
   ]
  },
  {
   "cell_type": "code",
   "execution_count": 22,
   "metadata": {
    "run_control": {
     "frozen": false,
     "read_only": false
    }
   },
   "outputs": [
    {
     "name": "stdout",
     "output_type": "stream",
     "text": [
      "Populating the interactive namespace from numpy and matplotlib\n"
     ]
    }
   ],
   "source": [
    "from __future__ import print_function, division\n",
    "\n",
    "from pandas.plotting import scatter_matrix as smx\n",
    "\n",
    "import numpy as np\n",
    "import pandas as pd\n",
    "import geopandas as gp\n",
    "import statsmodels.formula.api as smf\n",
    "import pylab as pl\n",
    "import os\n",
    "\n",
    "%pylab inline\n",
    "\n",
    "#if os.getenv(\"PUIDATA\") is None:\n",
    "#    print (\"$PUIDATA to point to set PUIdata dir\")\n",
    "\n",
    "#import statsmodels.api as sm\n",
    "#from pandas.tools.plotting import scatter_matrix"
   ]
  },
  {
   "cell_type": "markdown",
   "metadata": {
    "run_control": {
     "frozen": false,
     "read_only": false
    }
   },
   "source": [
    "seed your random functions, use PEP8!\n",
    "\n",
    "** can we measure and predict energy use based on observables that are easily acquired\".\n",
    "is a proxy for occupancy, and that occupancy is a good predictor of energy consumption.**\n",
    "\n",
    "** Test: how well does _energy consumed by a building_ relates to the _number of units_ in the building?**\n",
    "\n",
    "API"
   ]
  },
  {
   "cell_type": "markdown",
   "metadata": {},
   "source": [
    "# Download and read data (stored in PUIDATA)"
   ]
  },
  {
   "cell_type": "code",
   "execution_count": null,
   "metadata": {},
   "outputs": [],
   "source": [
    "# energy consumption data source:\n",
    "# https://data.cityofnewyork.us/Environment/Energy-and-Water-Data-Disclosure-for-Local-Law-84-/rgfe-8y2z\n",
    "link1 = 'https://data.cityofnewyork.us/api/views/rgfe-8y2z/rows.csv?accessType=DOWNLOAD'\n",
    "os.system(\"curl -o energy.csv \" + link1)\n",
    "os.system(\"mv energy.csv \" + os.getenv(\"PUIDATA\"))\n",
    "\n",
    "#os.system(\"mv Energy_and_Water_Data_Disclosure_for_Local_Law_84__2013_.csv \" + os.getenv(\"PUIDATA\"))"
   ]
  },
  {
   "cell_type": "code",
   "execution_count": null,
   "metadata": {},
   "outputs": [],
   "source": [
    "# pluto Manhattan data source:\n",
    "# https://www1.nyc.gov/site/planning/data-maps/open-data/dwn-pluto-mappluto.page\n",
    "link2 = 'https://www1.nyc.gov/assets/planning/download/zip/data-maps/open-data/mn_mappluto_16v2.zip'\n",
    "os.system(\"curl -O \" + link2)\n",
    "os.system(\"unzip mn_mappluto_16v2.zip -d \" + os.getenv(\"PUIDATA\") + \"/Manhattan\")"
   ]
  },
  {
   "cell_type": "code",
   "execution_count": 2,
   "metadata": {
    "ExecuteTime": {
     "end_time": "2017-10-19T21:53:07.869072",
     "start_time": "2017-10-19T21:52:36.962480"
    }
   },
   "outputs": [],
   "source": [
    "nrg = gp.GeoDataFrame.from_csv(os.getenv(\"PUIDATA\") + \"/energy.csv\")\n",
    "bsize = gp.GeoDataFrame.from_file(os.getenv(\"PUIDATA\") + \"/Manhattan/MNMapPLUTO.shp\")\n",
    "\n",
    "#nrg = gp.GeoDataFrame.from_csv(os.getenv(\"PUIDATA\") + \"/Energy_and_Water_Data_Disclosure_for_Local_Law_84__2013_.csv\")"
   ]
  },
  {
   "cell_type": "code",
   "execution_count": null,
   "metadata": {
    "run_control": {
     "frozen": false,
     "read_only": false
    }
   },
   "outputs": [],
   "source": [
    "nrg.columns"
   ]
  },
  {
   "cell_type": "code",
   "execution_count": null,
   "metadata": {
    "run_control": {
     "frozen": false,
     "read_only": false
    }
   },
   "outputs": [],
   "source": [
    "bsize.columns"
   ]
  },
  {
   "cell_type": "markdown",
   "metadata": {},
   "source": [
    "# Data management"
   ]
  },
  {
   "cell_type": "code",
   "execution_count": null,
   "metadata": {
    "ExecuteTime": {
     "end_time": "2017-10-19T15:22:00.187105",
     "start_time": "2017-10-19T15:21:54.857349"
    },
    "run_control": {
     "frozen": false,
     "read_only": false
    }
   },
   "outputs": [],
   "source": [
    "# scatter matrix\n",
    "smx(nrg, s=300, figsize=(16, 16));"
   ]
  },
  {
   "cell_type": "markdown",
   "metadata": {
    "run_control": {
     "frozen": false,
     "read_only": false
    }
   },
   "source": [
    "Figure 1: scatter matrix of all numerical values in the files. ... comments on what you see"
   ]
  },
  {
   "cell_type": "code",
   "execution_count": 3,
   "metadata": {
    "ExecuteTime": {
     "end_time": "2017-10-19T15:18:45.706267",
     "start_time": "2017-10-19T15:18:45.702833"
    },
    "run_control": {
     "frozen": false,
     "read_only": false
    }
   },
   "outputs": [],
   "source": [
    "# make sure you clean up your data and throw away columns you do not need!\n",
    "nrg.drop(['Co-reported BBL Status', 'BBLs Co-reported',\n",
    "       'Reported NYC Building Identificaiton Numbers (BINs)',\n",
    "       'Street Number', 'Street Name', 'Borough', 'Postcode',\n",
    "       'DOF Benchmarking Submission Status',\n",
    "       'Weather Normalized Site EUI(kBtu/ft2)', 'Source EUI(kBtu/ft2)',\n",
    "       'Weather Normalized Source EUI(kBtu/ft2)',\n",
    "       'Municipally Supplied Potable Water - Indoor Intensity (gal/ft²)',\n",
    "       'Automatic Water Benchmarking Eligible', 'Reported Water Method',\n",
    "       'ENERGY STAR Score', 'Total GHG Emissions(MtCO2e)',\n",
    "       'Direct GHG Emissions(MtCO2e)', 'Indirect GHG Emissions(MtCO2e)',\n",
    "       'DOF Property Floor Area (Buildngs and Parking)(ft2)',\n",
    "       'Primary Property Type - Self Selected',\n",
    "       'Latitude', 'Longitude', 'Community Board', 'Council District',\n",
    "       'Census Tract', 'BIN', 'NTA'], axis=1, inplace=True)"
   ]
  },
  {
   "cell_type": "code",
   "execution_count": 4,
   "metadata": {},
   "outputs": [
    {
     "data": {
      "text/html": [
       "<div>\n",
       "<style>\n",
       "    .dataframe thead tr:only-child th {\n",
       "        text-align: right;\n",
       "    }\n",
       "\n",
       "    .dataframe thead th {\n",
       "        text-align: left;\n",
       "    }\n",
       "\n",
       "    .dataframe tbody tr th {\n",
       "        vertical-align: top;\n",
       "    }\n",
       "</style>\n",
       "<table border=\"1\" class=\"dataframe\">\n",
       "  <thead>\n",
       "    <tr style=\"text-align: right;\">\n",
       "      <th></th>\n",
       "      <th>BBL</th>\n",
       "      <th>EUI</th>\n",
       "      <th>fl_area</th>\n",
       "      <th>n_bldg</th>\n",
       "    </tr>\n",
       "    <tr>\n",
       "      <th>Record Number</th>\n",
       "      <th></th>\n",
       "      <th></th>\n",
       "      <th></th>\n",
       "      <th></th>\n",
       "    </tr>\n",
       "  </thead>\n",
       "  <tbody>\n",
       "    <tr>\n",
       "      <th>12086</th>\n",
       "      <td>1.000410e+09</td>\n",
       "      <td>NaN</td>\n",
       "      <td>918919</td>\n",
       "      <td>NaN</td>\n",
       "    </tr>\n",
       "    <tr>\n",
       "      <th>14354</th>\n",
       "      <td>4.021460e+09</td>\n",
       "      <td>NaN</td>\n",
       "      <td>NaN</td>\n",
       "      <td>1.0</td>\n",
       "    </tr>\n",
       "    <tr>\n",
       "      <th>12150</th>\n",
       "      <td>2.027620e+09</td>\n",
       "      <td>NaN</td>\n",
       "      <td>64200</td>\n",
       "      <td>NaN</td>\n",
       "    </tr>\n",
       "    <tr>\n",
       "      <th>12590</th>\n",
       "      <td>1.006700e+09</td>\n",
       "      <td>NaN</td>\n",
       "      <td>NaN</td>\n",
       "      <td>1.0</td>\n",
       "    </tr>\n",
       "    <tr>\n",
       "      <th>15591</th>\n",
       "      <td>2.048300e+09</td>\n",
       "      <td>NaN</td>\n",
       "      <td>50000</td>\n",
       "      <td>NaN</td>\n",
       "    </tr>\n",
       "  </tbody>\n",
       "</table>\n",
       "</div>"
      ],
      "text/plain": [
       "                        BBL  EUI fl_area  n_bldg\n",
       "Record Number                                   \n",
       "12086          1.000410e+09  NaN  918919     NaN\n",
       "14354          4.021460e+09  NaN     NaN     1.0\n",
       "12150          2.027620e+09  NaN   64200     NaN\n",
       "12590          1.006700e+09  NaN     NaN     1.0\n",
       "15591          2.048300e+09  NaN   50000     NaN"
      ]
     },
     "execution_count": 4,
     "metadata": {},
     "output_type": "execute_result"
    }
   ],
   "source": [
    "nrg.rename(columns={'Site EUI(kBtu/ft2)':'EUI',\n",
    "                    'Reported Property Floor Area (Building(s)) (ft²)':'fl_area',\n",
    "                    'DOF Number of Buildings':'n_bldg'}, inplace=True)\n",
    "\n",
    "nrg.head()"
   ]
  },
  {
   "cell_type": "code",
   "execution_count": 5,
   "metadata": {
    "run_control": {
     "frozen": false,
     "read_only": false
    },
    "scrolled": true
   },
   "outputs": [],
   "source": [
    "# use pd.to_numeric to convert strings to numeric values, \n",
    "nrg['EUI'] = pd.to_numeric(nrg['EUI'], errors='coerce')\n",
    "#print(nrg['EUI'].astype(float))\n",
    "nrg['fl_area'] = pd.to_numeric(nrg['fl_area'], errors='coerce')\n",
    "#print(nrg['fl_area'].astype(float))\n",
    "nrg['n_bldg'] = pd.to_numeric(nrg['n_bldg'], errors='coerce')\n",
    "#print(nrg['n_bldg'].astype(float))"
   ]
  },
  {
   "cell_type": "code",
   "execution_count": 6,
   "metadata": {},
   "outputs": [],
   "source": [
    "bsize.drop(['APPBBL', 'APPDate', 'Address',\n",
    "           'AreaSource', 'AssessLand', 'AssessTot', 'BldgArea', 'BldgClass',\n",
    "           'BldgDepth', 'BldgFront', 'Block', 'BoroCode', 'Borough', 'BsmtCode',\n",
    "           'BuiltFAR', 'CB2010', 'CD', 'CT2010', 'ComArea', 'CommFAR',\n",
    "           'CondoNo', 'Council', 'EDesigNum', 'Easements', 'ExemptLand',\n",
    "           'ExemptTot', 'Ext', 'FacilFAR', 'FactryArea', 'FireComp', 'GarageArea',\n",
    "           'HealthArea', 'HistDist', 'IrrLotCode', 'LandUse', 'Landmark', 'Lot',\n",
    "           'LotArea', 'LotDepth', 'LotFront', 'LotType', 'LtdHeight', 'MAPPLUTO_F',\n",
    "           'NumBldgs', 'NumFloors', 'OfficeArea', 'OtherArea', 'Overlay1',\n",
    "           'Overlay2', 'OwnerName', 'OwnerType', 'PLUTOMapID', 'PolicePrct',\n",
    "           'ProxCode', 'ResArea', 'ResidFAR', 'RetailArea', 'SHAPE_Area',\n",
    "           'SHAPE_Leng', 'SPDist1', 'SPDist2', 'Sanborn', 'SanitBoro', 'SanitDistr',\n",
    "           'SanitSub', 'SchoolDist', 'SPDist3', 'SplitZone', 'StrgeArea', 'TaxMap',\n",
    "           'Tract2010', 'Version', 'XCoord', 'YCoord',\n",
    "           'YearAlter1', 'YearAlter2', 'ZMCode', 'ZipCode',\n",
    "           'ZoneDist1', 'ZoneDist2', 'ZoneDist3', 'ZoneDist4', 'ZoneMap',\n",
    "           'geometry'], axis=1, inplace=True)"
   ]
  },
  {
   "cell_type": "code",
   "execution_count": 8,
   "metadata": {},
   "outputs": [
    {
     "data": {
      "text/html": [
       "<div>\n",
       "<style>\n",
       "    .dataframe thead tr:only-child th {\n",
       "        text-align: right;\n",
       "    }\n",
       "\n",
       "    .dataframe thead th {\n",
       "        text-align: left;\n",
       "    }\n",
       "\n",
       "    .dataframe tbody tr th {\n",
       "        vertical-align: top;\n",
       "    }\n",
       "</style>\n",
       "<table border=\"1\" class=\"dataframe\">\n",
       "  <thead>\n",
       "    <tr style=\"text-align: right;\">\n",
       "      <th></th>\n",
       "      <th>u_res</th>\n",
       "      <th>u_total</th>\n",
       "      <th>year</th>\n",
       "      <th>BBL</th>\n",
       "    </tr>\n",
       "  </thead>\n",
       "  <tbody>\n",
       "    <tr>\n",
       "      <th>0</th>\n",
       "      <td>0</td>\n",
       "      <td>0</td>\n",
       "      <td>1900</td>\n",
       "      <td>1.000010e+09</td>\n",
       "    </tr>\n",
       "    <tr>\n",
       "      <th>1</th>\n",
       "      <td>0</td>\n",
       "      <td>0</td>\n",
       "      <td>1987</td>\n",
       "      <td>1.000090e+09</td>\n",
       "    </tr>\n",
       "    <tr>\n",
       "      <th>2</th>\n",
       "      <td>500</td>\n",
       "      <td>602</td>\n",
       "      <td>1902</td>\n",
       "      <td>1.000158e+09</td>\n",
       "    </tr>\n",
       "    <tr>\n",
       "      <th>3</th>\n",
       "      <td>0</td>\n",
       "      <td>50</td>\n",
       "      <td>1900</td>\n",
       "      <td>1.000130e+09</td>\n",
       "    </tr>\n",
       "    <tr>\n",
       "      <th>4</th>\n",
       "      <td>0</td>\n",
       "      <td>0</td>\n",
       "      <td>1900</td>\n",
       "      <td>1.000010e+09</td>\n",
       "    </tr>\n",
       "  </tbody>\n",
       "</table>\n",
       "</div>"
      ],
      "text/plain": [
       "   u_res  u_total  year           BBL\n",
       "0      0        0  1900  1.000010e+09\n",
       "1      0        0  1987  1.000090e+09\n",
       "2    500      602  1902  1.000158e+09\n",
       "3      0       50  1900  1.000130e+09\n",
       "4      0        0  1900  1.000010e+09"
      ]
     },
     "execution_count": 8,
     "metadata": {},
     "output_type": "execute_result"
    }
   ],
   "source": [
    "bsize.rename(columns={'UnitsRes':'u_res',\n",
    "                      'UnitsTotal':'u_total',\n",
    "                      'YearBuilt':'year'}, inplace=True)\n",
    "bsize.head()"
   ]
  },
  {
   "cell_type": "code",
   "execution_count": 9,
   "metadata": {
    "scrolled": true
   },
   "outputs": [
    {
     "data": {
      "text/plain": [
       "0        1.000010e+09\n",
       "1        1.000090e+09\n",
       "2        1.000158e+09\n",
       "3        1.000130e+09\n",
       "4        1.000010e+09\n",
       "5        1.000010e+09\n",
       "6        1.000130e+09\n",
       "7        1.000090e+09\n",
       "8        1.000030e+09\n",
       "9        1.000120e+09\n",
       "10       1.000030e+09\n",
       "11       1.000168e+09\n",
       "12       1.000160e+09\n",
       "13       1.000030e+09\n",
       "14       1.000120e+09\n",
       "15       1.000030e+09\n",
       "16       1.000030e+09\n",
       "17       1.000130e+09\n",
       "18       1.000090e+09\n",
       "19       1.000090e+09\n",
       "20       1.000300e+09\n",
       "21       1.000328e+09\n",
       "22       1.000318e+09\n",
       "23       1.000080e+09\n",
       "24       1.000290e+09\n",
       "25       1.000290e+09\n",
       "26       1.000390e+09\n",
       "27       1.000020e+09\n",
       "28       1.000350e+09\n",
       "29       1.000070e+09\n",
       "             ...     \n",
       "42656    1.008968e+09\n",
       "42657    1.010778e+09\n",
       "42658    1.010478e+09\n",
       "42659    1.013428e+09\n",
       "42660    1.014298e+09\n",
       "42661    1.014738e+09\n",
       "42662    1.018878e+09\n",
       "42663    1.018438e+09\n",
       "42664    1.016308e+09\n",
       "42665    1.018318e+09\n",
       "42666    1.019448e+09\n",
       "42667    1.018448e+09\n",
       "42668    1.019438e+09\n",
       "42669    1.019448e+09\n",
       "42670    1.018488e+09\n",
       "42671    1.019448e+09\n",
       "42672    1.017458e+09\n",
       "42673    1.016218e+09\n",
       "42674    1.019028e+09\n",
       "42675    1.019288e+09\n",
       "42676    1.019108e+09\n",
       "42677    1.019558e+09\n",
       "42678    1.019408e+09\n",
       "42679    1.020448e+09\n",
       "42680    1.020958e+09\n",
       "42681    1.020678e+09\n",
       "42682    1.021348e+09\n",
       "42683    1.017298e+09\n",
       "42684    1.017298e+09\n",
       "42685    1.020348e+09\n",
       "Name: BBL, Length: 42686, dtype: float64"
      ]
     },
     "execution_count": 9,
     "metadata": {},
     "output_type": "execute_result"
    }
   ],
   "source": [
    "#but check you can use the columns you want with pluto\n",
    "bsize.u_res.astype(float)\n",
    "bsize.u_total.astype(float)\n",
    "bsize.year.astype(float)\n",
    "bsize.BBL.astype(float)"
   ]
  },
  {
   "cell_type": "code",
   "execution_count": 10,
   "metadata": {
    "ExecuteTime": {
     "end_time": "2017-10-19T15:46:50.865485",
     "start_time": "2017-10-19T15:46:50.858740"
    },
    "run_control": {
     "frozen": false,
     "read_only": false
    },
    "scrolled": true
   },
   "outputs": [
    {
     "name": "stdout",
     "output_type": "stream",
     "text": [
      "invalid entries in BBL changed to NaN 156\n",
      "invalid entries in EUI changed to NaN 4623\n",
      "invalid entries in fl_area changed to NaN 3125\n",
      "invalid entries in n_bldg changed to NaN 1705\n",
      "invalid entries in u_res changed to NaN 0\n",
      "invalid entries in u_total changed to NaN 0\n",
      "invalid entries in year changed to NaN 0\n",
      "invalid entries in BBL changed to NaN 0\n"
     ]
    }
   ],
   "source": [
    "#How many missing values?\n",
    "for c in nrg.columns:\n",
    "    print(\"invalid entries in %s changed to NaN %d\"%(c, sum(np.isnan(nrg.loc[:,c]).sum())))\n",
    "\n",
    "for c in bsize.columns:\n",
    "    print(\"invalid entries in %s changed to NaN %d\"%(c, sum(np.isnan(bsize.loc[:,c]).sum())))"
   ]
  },
  {
   "cell_type": "code",
   "execution_count": 11,
   "metadata": {
    "ExecuteTime": {
     "end_time": "2017-10-19T15:47:20.434273",
     "start_time": "2017-10-19T15:47:20.426426"
    }
   },
   "outputs": [
    {
     "data": {
      "text/plain": [
       "(numpy.float64, numpy.float64)"
      ]
     },
     "execution_count": 11,
     "metadata": {},
     "output_type": "execute_result"
    }
   ],
   "source": [
    "# check data type\n",
    "type(bsize.BBL.values[0]), type(nrg.BBL.values[0])\n",
    "\n",
    "#(bsize.BBL.values[0]), (nrg.BBL.values[0])"
   ]
  },
  {
   "cell_type": "code",
   "execution_count": 12,
   "metadata": {
    "ExecuteTime": {
     "end_time": "2017-10-19T15:47:32.313527",
     "start_time": "2017-10-19T15:47:32.267121"
    }
   },
   "outputs": [
    {
     "data": {
      "text/plain": [
       "(4688, 7)"
      ]
     },
     "execution_count": 12,
     "metadata": {},
     "output_type": "execute_result"
    }
   ],
   "source": [
    "data = pd.merge(nrg, bsize, on='BBL').dropna()\n",
    "data.shape"
   ]
  },
  {
   "cell_type": "code",
   "execution_count": 13,
   "metadata": {},
   "outputs": [
    {
     "data": {
      "text/html": [
       "<div>\n",
       "<style>\n",
       "    .dataframe thead tr:only-child th {\n",
       "        text-align: right;\n",
       "    }\n",
       "\n",
       "    .dataframe thead th {\n",
       "        text-align: left;\n",
       "    }\n",
       "\n",
       "    .dataframe tbody tr th {\n",
       "        vertical-align: top;\n",
       "    }\n",
       "</style>\n",
       "<table border=\"1\" class=\"dataframe\">\n",
       "  <thead>\n",
       "    <tr style=\"text-align: right;\">\n",
       "      <th></th>\n",
       "      <th>BBL</th>\n",
       "      <th>EUI</th>\n",
       "      <th>fl_area</th>\n",
       "      <th>n_bldg</th>\n",
       "      <th>u_res</th>\n",
       "      <th>u_total</th>\n",
       "      <th>year</th>\n",
       "    </tr>\n",
       "  </thead>\n",
       "  <tbody>\n",
       "    <tr>\n",
       "      <th>2</th>\n",
       "      <td>1.013110e+09</td>\n",
       "      <td>125.4</td>\n",
       "      <td>330000.0</td>\n",
       "      <td>1.0</td>\n",
       "      <td>0</td>\n",
       "      <td>56</td>\n",
       "      <td>1977</td>\n",
       "    </tr>\n",
       "    <tr>\n",
       "      <th>15</th>\n",
       "      <td>1.007660e+09</td>\n",
       "      <td>122.3</td>\n",
       "      <td>59468.0</td>\n",
       "      <td>1.0</td>\n",
       "      <td>0</td>\n",
       "      <td>8</td>\n",
       "      <td>1912</td>\n",
       "    </tr>\n",
       "    <tr>\n",
       "      <th>16</th>\n",
       "      <td>1.008150e+09</td>\n",
       "      <td>117.0</td>\n",
       "      <td>364000.0</td>\n",
       "      <td>1.0</td>\n",
       "      <td>0</td>\n",
       "      <td>24</td>\n",
       "      <td>1954</td>\n",
       "    </tr>\n",
       "    <tr>\n",
       "      <th>18</th>\n",
       "      <td>1.005050e+09</td>\n",
       "      <td>82.1</td>\n",
       "      <td>235370.0</td>\n",
       "      <td>1.0</td>\n",
       "      <td>0</td>\n",
       "      <td>24</td>\n",
       "      <td>1926</td>\n",
       "    </tr>\n",
       "    <tr>\n",
       "      <th>19</th>\n",
       "      <td>1.021420e+09</td>\n",
       "      <td>137.7</td>\n",
       "      <td>64806.0</td>\n",
       "      <td>1.0</td>\n",
       "      <td>54</td>\n",
       "      <td>62</td>\n",
       "      <td>1924</td>\n",
       "    </tr>\n",
       "  </tbody>\n",
       "</table>\n",
       "</div>"
      ],
      "text/plain": [
       "             BBL    EUI   fl_area  n_bldg  u_res  u_total  year\n",
       "2   1.013110e+09  125.4  330000.0     1.0      0       56  1977\n",
       "15  1.007660e+09  122.3   59468.0     1.0      0        8  1912\n",
       "16  1.008150e+09  117.0  364000.0     1.0      0       24  1954\n",
       "18  1.005050e+09   82.1  235370.0     1.0      0       24  1926\n",
       "19  1.021420e+09  137.7   64806.0     1.0     54       62  1924"
      ]
     },
     "execution_count": 13,
     "metadata": {},
     "output_type": "execute_result"
    }
   ],
   "source": [
    "data.head()"
   ]
  },
  {
   "cell_type": "markdown",
   "metadata": {},
   "source": [
    "# Exploratory analysis"
   ]
  },
  {
   "cell_type": "code",
   "execution_count": null,
   "metadata": {
    "ExecuteTime": {
     "end_time": "2017-10-19T15:48:56.747639",
     "start_time": "2017-10-19T15:48:52.459258"
    },
    "run_control": {
     "frozen": false,
     "read_only": false
    },
    "scrolled": true
   },
   "outputs": [],
   "source": [
    "# Now the scatter matrix plot should show more columns.\n",
    "smx(data, s=30, figsize=(16, 16));"
   ]
  },
  {
   "cell_type": "markdown",
   "metadata": {
    "ExecuteTime": {
     "end_time": "2017-10-19T15:49:16.596228",
     "start_time": "2017-10-19T15:49:16.591281"
    }
   },
   "source": [
    "Figure 2: scatter matix of final dataset (please describe)"
   ]
  },
  {
   "cell_type": "markdown",
   "metadata": {
    "run_control": {
     "frozen": false,
     "read_only": false
    }
   },
   "source": [
    "each plot needs a descriptive caption, and axis labels**"
   ]
  },
  {
   "cell_type": "code",
   "execution_count": 14,
   "metadata": {
    "collapsed": true
   },
   "outputs": [],
   "source": [
    "data['EUI_total'] = data.EUI * data.fl_area"
   ]
  },
  {
   "cell_type": "code",
   "execution_count": 15,
   "metadata": {
    "run_control": {
     "frozen": false,
     "read_only": false
    }
   },
   "outputs": [
    {
     "data": {
      "text/plain": [
       "<matplotlib.text.Text at 0x12582fa58>"
      ]
     },
     "execution_count": 15,
     "metadata": {},
     "output_type": "execute_result"
    },
    {
     "data": {
      "image/png": "[encoded data removed]",
      "text/plain": [
       "<matplotlib.figure.Figure at 0x111eb5c50>"
      ]
     },
     "metadata": {},
     "output_type": "display_data"
    }
   ],
   "source": [
    "# first scatter plot\n",
    "pl.figure(figsize=(8,6))\n",
    "pl.scatter(data.u_total, data.EUI_total)\n",
    "pl.xlabel('Number of total units', fontsize=16)\n",
    "pl.ylabel('Total energy consumption (kBtu)', fontsize=16)"
   ]
  },
  {
   "cell_type": "code",
   "execution_count": 16,
   "metadata": {
    "run_control": {
     "frozen": false,
     "read_only": false
    }
   },
   "outputs": [
    {
     "data": {
      "image/png": "[encoded data removed]",
      "text/plain": [
       "<matplotlib.figure.Figure at 0x113053c88>"
      ]
     },
     "metadata": {},
     "output_type": "display_data"
    }
   ],
   "source": [
    "### zoomed in scatter plot\n",
    "pl.figure(figsize=(8,6))\n",
    "pl.scatter(data.u_total, data.EUI_total)\n",
    "pl.xlabel('Number of total units', fontsize=16)\n",
    "pl.ylabel('Total energy consumption (kBtu)', fontsize=16)\n",
    "pl.xlim(0, 1500)\n",
    "pl.ylim(0, 2e10);"
   ]
  },
  {
   "cell_type": "code",
   "execution_count": 62,
   "metadata": {},
   "outputs": [],
   "source": [
    "#data.drop(data.index[data.u_total == 0], axis=0, inplace=True)\n",
    "data_cut = data[(data.EUI_total>1000) & (data.u_total>=10) & (data.u_total<1000)]"
   ]
  },
  {
   "cell_type": "code",
   "execution_count": 21,
   "metadata": {
    "ExecuteTime": {
     "end_time": "2017-10-19T17:28:47.312217",
     "start_time": "2017-10-19T17:28:45.424304"
    },
    "run_control": {
     "frozen": false,
     "read_only": false
    }
   },
   "outputs": [
    {
     "data": {
      "image/png": "[encoded data removed]",
      "text/plain": [
       "<matplotlib.figure.Figure at 0x111df1d68>"
      ]
     },
     "metadata": {},
     "output_type": "display_data"
    }
   ],
   "source": [
    "ax = data_cut.plot(kind='scatter', y='EUI_total', x='u_total',\n",
    "                   marker='o', figsize=(16, 14), loglog=True)\n",
    "xl = ax.set_xlabel(\"Number of Units in Building\", fontsize=20)\n",
    "yl = ax.set_ylabel(\"Energy consumption per building (kBtu)\", fontsize=20)\n",
    "\n",
    "#pl.loglog(data.u_total, data.EUI_total, '.')"
   ]
  },
  {
   "cell_type": "markdown",
   "metadata": {},
   "source": [
    "Also I removed the buildings with several thousand units. Points like that at the edge of my range would have a lot of \"LEVERAGE\", however they are not spurious entries like the 0, which I believe are missing values, or perhaps abandoned lots. These are good datapoint that I need to throw away functionally for my analysis to work."
   ]
  },
  {
   "cell_type": "markdown",
   "metadata": {
    "run_control": {
     "frozen": false,
     "read_only": false
    }
   },
   "source": [
    "## choose  which is your DEPENDENT and which is your INDEPENDENT variable. \n",
    "discuss this but also test both fits, energy vs size and size vs energy. how can you compare these models? \n"
   ]
  },
  {
   "cell_type": "code",
   "execution_count": null,
   "metadata": {
    "ExecuteTime": {
     "end_time": "2017-10-19T22:12:56.384129",
     "start_time": "2017-10-19T22:12:56.371558"
    },
    "collapsed": true,
    "run_control": {
     "frozen": false,
     "read_only": false
    }
   },
   "outputs": [],
   "source": [
    "# fits and plots here\n",
    "# your plots should show datapoints (as scatter plot) and models (as lines)\n",
    "# Make sure your model for the quadratic fit looks right: dont just join the points, you need to sort them first!"
   ]
  },
  {
   "cell_type": "markdown",
   "metadata": {},
   "source": [
    "1. **Fit a line** to Units vs Energy."
   ]
  },
  {
   "cell_type": "code",
   "execution_count": 40,
   "metadata": {
    "scrolled": true
   },
   "outputs": [
    {
     "data": {
      "text/html": [
       "<table class=\"simpletable\">\n",
       "<caption>OLS Regression Results</caption>\n",
       "<tr>\n",
       "  <th>Dep. Variable:</th>    <td>np.log10(u_total)</td> <th>  R-squared:         </th> <td>   0.167</td> \n",
       "</tr>\n",
       "<tr>\n",
       "  <th>Model:</th>                   <td>OLS</td>        <th>  Adj. R-squared:    </th> <td>   0.167</td> \n",
       "</tr>\n",
       "<tr>\n",
       "  <th>Method:</th>             <td>Least Squares</td>   <th>  F-statistic:       </th> <td>   800.6</td> \n",
       "</tr>\n",
       "<tr>\n",
       "  <th>Date:</th>             <td>Fri, 20 Oct 2017</td>  <th>  Prob (F-statistic):</th> <td>1.13e-160</td>\n",
       "</tr>\n",
       "<tr>\n",
       "  <th>Time:</th>                 <td>14:45:49</td>      <th>  Log-Likelihood:    </th> <td> -1594.5</td> \n",
       "</tr>\n",
       "<tr>\n",
       "  <th>No. Observations:</th>      <td>  3992</td>       <th>  AIC:               </th> <td>   3193.</td> \n",
       "</tr>\n",
       "<tr>\n",
       "  <th>Df Residuals:</th>          <td>  3990</td>       <th>  BIC:               </th> <td>   3206.</td> \n",
       "</tr>\n",
       "<tr>\n",
       "  <th>Df Model:</th>              <td>     1</td>       <th>                     </th>     <td> </td>    \n",
       "</tr>\n",
       "<tr>\n",
       "  <th>Covariance Type:</th>      <td>nonrobust</td>     <th>                     </th>     <td> </td>    \n",
       "</tr>\n",
       "</table>\n",
       "<table class=\"simpletable\">\n",
       "<tr>\n",
       "           <td></td>              <th>coef</th>     <th>std err</th>      <th>t</th>      <th>P>|t|</th>  <th>[0.025</th>    <th>0.975]</th>  \n",
       "</tr>\n",
       "<tr>\n",
       "  <th>Intercept</th>           <td>   -0.5032</td> <td>    0.085</td> <td>   -5.929</td> <td> 0.000</td> <td>   -0.670</td> <td>   -0.337</td>\n",
       "</tr>\n",
       "<tr>\n",
       "  <th>np.log10(EUI_total)</th> <td>    0.3405</td> <td>    0.012</td> <td>   28.295</td> <td> 0.000</td> <td>    0.317</td> <td>    0.364</td>\n",
       "</tr>\n",
       "</table>\n",
       "<table class=\"simpletable\">\n",
       "<tr>\n",
       "  <th>Omnibus:</th>       <td>153.836</td> <th>  Durbin-Watson:     </th> <td>   1.356</td>\n",
       "</tr>\n",
       "<tr>\n",
       "  <th>Prob(Omnibus):</th> <td> 0.000</td>  <th>  Jarque-Bera (JB):  </th> <td> 171.715</td>\n",
       "</tr>\n",
       "<tr>\n",
       "  <th>Skew:</th>          <td>-0.488</td>  <th>  Prob(JB):          </th> <td>5.16e-38</td>\n",
       "</tr>\n",
       "<tr>\n",
       "  <th>Kurtosis:</th>      <td> 3.280</td>  <th>  Cond. No.          </th> <td>    107.</td>\n",
       "</tr>\n",
       "</table>"
      ],
      "text/plain": [
       "<class 'statsmodels.iolib.summary.Summary'>\n",
       "\"\"\"\n",
       "                            OLS Regression Results                            \n",
       "==============================================================================\n",
       "Dep. Variable:      np.log10(u_total)   R-squared:                       0.167\n",
       "Model:                            OLS   Adj. R-squared:                  0.167\n",
       "Method:                 Least Squares   F-statistic:                     800.6\n",
       "Date:                Fri, 20 Oct 2017   Prob (F-statistic):          1.13e-160\n",
       "Time:                        14:45:49   Log-Likelihood:                -1594.5\n",
       "No. Observations:                3992   AIC:                             3193.\n",
       "Df Residuals:                    3990   BIC:                             3206.\n",
       "Df Model:                           1                                         \n",
       "Covariance Type:            nonrobust                                         \n",
       "=======================================================================================\n",
       "                          coef    std err          t      P>|t|      [0.025      0.975]\n",
       "---------------------------------------------------------------------------------------\n",
       "Intercept              -0.5032      0.085     -5.929      0.000      -0.670      -0.337\n",
       "np.log10(EUI_total)     0.3405      0.012     28.295      0.000       0.317       0.364\n",
       "==============================================================================\n",
       "Omnibus:                      153.836   Durbin-Watson:                   1.356\n",
       "Prob(Omnibus):                  0.000   Jarque-Bera (JB):              171.715\n",
       "Skew:                          -0.488   Prob(JB):                     5.16e-38\n",
       "Kurtosis:                       3.280   Cond. No.                         107.\n",
       "==============================================================================\n",
       "\n",
       "Warnings:\n",
       "[1] Standard Errors assume that the covariance matrix of the errors is correctly specified.\n",
       "\"\"\""
      ]
     },
     "execution_count": 40,
     "metadata": {},
     "output_type": "execute_result"
    }
   ],
   "source": [
    "lm0 = smf.ols(formula='np.log10(u_total) ~ np.log10(EUI_total)', data=data_cut, missing='drop').fit()\n",
    "lm0.summary()"
   ]
  },
  {
   "cell_type": "code",
   "execution_count": 45,
   "metadata": {},
   "outputs": [
    {
     "data": {
      "text/plain": [
       "[<matplotlib.lines.Line2D at 0x11af81ef0>]"
      ]
     },
     "execution_count": 45,
     "metadata": {},
     "output_type": "execute_result"
    },
    {
     "data": {
      "image/png": "[encoded data removed]",
      "text/plain": [
       "<matplotlib.figure.Figure at 0x11a34b208>"
      ]
     },
     "metadata": {},
     "output_type": "display_data"
    }
   ],
   "source": [
    "pl.figure(figsize=(10,8))\n",
    "pl.plot(np.log10(data_cut.EUI_total), np.log10(data_cut.u_total), 'c.')\n",
    "pl.plot(np.log10(data_cut.EUI_total), lm0.fittedvalues, 'r-')"
   ]
  },
  {
   "cell_type": "markdown",
   "metadata": {},
   "source": [
    "2. **Fit a line** to Energy vs Units."
   ]
  },
  {
   "cell_type": "code",
   "execution_count": 28,
   "metadata": {
    "scrolled": true
   },
   "outputs": [
    {
     "data": {
      "text/html": [
       "<table class=\"simpletable\">\n",
       "<caption>OLS Regression Results</caption>\n",
       "<tr>\n",
       "  <th>Dep. Variable:</th>    <td>np.log10(EUI_total)</td> <th>  R-squared:         </th> <td>   0.167</td> \n",
       "</tr>\n",
       "<tr>\n",
       "  <th>Model:</th>                    <td>OLS</td>         <th>  Adj. R-squared:    </th> <td>   0.167</td> \n",
       "</tr>\n",
       "<tr>\n",
       "  <th>Method:</th>              <td>Least Squares</td>    <th>  F-statistic:       </th> <td>   800.6</td> \n",
       "</tr>\n",
       "<tr>\n",
       "  <th>Date:</th>              <td>Fri, 20 Oct 2017</td>   <th>  Prob (F-statistic):</th> <td>1.13e-160</td>\n",
       "</tr>\n",
       "<tr>\n",
       "  <th>Time:</th>                  <td>14:27:54</td>       <th>  Log-Likelihood:    </th> <td> -2324.2</td> \n",
       "</tr>\n",
       "<tr>\n",
       "  <th>No. Observations:</th>       <td>  3992</td>        <th>  AIC:               </th> <td>   4652.</td> \n",
       "</tr>\n",
       "<tr>\n",
       "  <th>Df Residuals:</th>           <td>  3990</td>        <th>  BIC:               </th> <td>   4665.</td> \n",
       "</tr>\n",
       "<tr>\n",
       "  <th>Df Model:</th>               <td>     1</td>        <th>                     </th>     <td> </td>    \n",
       "</tr>\n",
       "<tr>\n",
       "  <th>Covariance Type:</th>       <td>nonrobust</td>      <th>                     </th>     <td> </td>    \n",
       "</tr>\n",
       "</table>\n",
       "<table class=\"simpletable\">\n",
       "<tr>\n",
       "          <td></td>             <th>coef</th>     <th>std err</th>      <th>t</th>      <th>P>|t|</th>  <th>[0.025</th>    <th>0.975]</th>  \n",
       "</tr>\n",
       "<tr>\n",
       "  <th>Intercept</th>         <td>    6.1076</td> <td>    0.034</td> <td>  182.100</td> <td> 0.000</td> <td>    6.042</td> <td>    6.173</td>\n",
       "</tr>\n",
       "<tr>\n",
       "  <th>np.log10(u_total)</th> <td>    0.4908</td> <td>    0.017</td> <td>   28.295</td> <td> 0.000</td> <td>    0.457</td> <td>    0.525</td>\n",
       "</tr>\n",
       "</table>\n",
       "<table class=\"simpletable\">\n",
       "<tr>\n",
       "  <th>Omnibus:</th>       <td>2192.819</td> <th>  Durbin-Watson:     </th> <td>   1.692</td> \n",
       "</tr>\n",
       "<tr>\n",
       "  <th>Prob(Omnibus):</th>  <td> 0.000</td>  <th>  Jarque-Bera (JB):  </th> <td>48020.607</td>\n",
       "</tr>\n",
       "<tr>\n",
       "  <th>Skew:</th>           <td> 2.155</td>  <th>  Prob(JB):          </th> <td>    0.00</td> \n",
       "</tr>\n",
       "<tr>\n",
       "  <th>Kurtosis:</th>       <td>19.436</td>  <th>  Cond. No.          </th> <td>    11.9</td> \n",
       "</tr>\n",
       "</table>"
      ],
      "text/plain": [
       "<class 'statsmodels.iolib.summary.Summary'>\n",
       "\"\"\"\n",
       "                             OLS Regression Results                            \n",
       "===============================================================================\n",
       "Dep. Variable:     np.log10(EUI_total)   R-squared:                       0.167\n",
       "Model:                             OLS   Adj. R-squared:                  0.167\n",
       "Method:                  Least Squares   F-statistic:                     800.6\n",
       "Date:                 Fri, 20 Oct 2017   Prob (F-statistic):          1.13e-160\n",
       "Time:                         14:27:54   Log-Likelihood:                -2324.2\n",
       "No. Observations:                 3992   AIC:                             4652.\n",
       "Df Residuals:                     3990   BIC:                             4665.\n",
       "Df Model:                            1                                         \n",
       "Covariance Type:             nonrobust                                         \n",
       "=====================================================================================\n",
       "                        coef    std err          t      P>|t|      [0.025      0.975]\n",
       "-------------------------------------------------------------------------------------\n",
       "Intercept             6.1076      0.034    182.100      0.000       6.042       6.173\n",
       "np.log10(u_total)     0.4908      0.017     28.295      0.000       0.457       0.525\n",
       "==============================================================================\n",
       "Omnibus:                     2192.819   Durbin-Watson:                   1.692\n",
       "Prob(Omnibus):                  0.000   Jarque-Bera (JB):            48020.607\n",
       "Skew:                           2.155   Prob(JB):                         0.00\n",
       "Kurtosis:                      19.436   Cond. No.                         11.9\n",
       "==============================================================================\n",
       "\n",
       "Warnings:\n",
       "[1] Standard Errors assume that the covariance matrix of the errors is correctly specified.\n",
       "\"\"\""
      ]
     },
     "execution_count": 28,
     "metadata": {},
     "output_type": "execute_result"
    }
   ],
   "source": [
    "lm = smf.ols(formula='np.log10(EUI_total) ~ np.log10(u_total)', data=data_cut, missing='drop').fit()\n",
    "lm.summary()\n",
    "\n",
    "#X = sm.add_constant(np.log10(x))\n",
    "#linmodel = sm.OLS(np.log10(y), X, missing='drop').fit()"
   ]
  },
  {
   "cell_type": "code",
   "execution_count": 39,
   "metadata": {},
   "outputs": [
    {
     "data": {
      "text/plain": [
       "[<matplotlib.lines.Line2D at 0x11a6f4860>]"
      ]
     },
     "execution_count": 39,
     "metadata": {},
     "output_type": "execute_result"
    },
    {
     "data": {
      "image/png": "[encoded data removed]",
      "text/plain": [
       "<matplotlib.figure.Figure at 0x11a365e80>"
      ]
     },
     "metadata": {},
     "output_type": "display_data"
    }
   ],
   "source": [
    "pl.figure(figsize=(10,8))\n",
    "pl.plot(np.log10(data_cut.u_total), np.log10(data_cut.EUI_total), 'c.')\n",
    "pl.plot(np.log10(data_cut.u_total), lm.fittedvalues, 'r-')"
   ]
  },
  {
   "cell_type": "markdown",
   "metadata": {
    "run_control": {
     "frozen": false,
     "read_only": false
    }
   },
   "source": [
    "# my OLS summary"
   ]
  },
  {
   "cell_type": "markdown",
   "metadata": {},
   "source": [
    "3. **Evaluate which is better by calculating the chi square**.\n",
    "compare these models with the likelihood ratio test? (hint: are they nested??)\n",
    "\n",
    "    The function is :\n",
    "    \n",
    "    chisq = $\\sum_i \\frac{(model(x_i) - data(x_i))^2 }{ error_i^2}$\n",
    "    \n",
    "    where the sum is over all datapoints, \n",
    "    \n",
    "    for the i-th value  model($x_i$) is the prediction, data($x_i$) the observation,\n",
    "    \n",
    "    and $error_i$ is $\\sqrt{data(x_i)}$\n",
    "    (but remember you worked in log space! What are the proper errors?? see next point)"
   ]
  },
  {
   "cell_type": "code",
   "execution_count": 47,
   "metadata": {
    "collapsed": true
   },
   "outputs": [],
   "source": [
    "def chi2(data, model, errors=None):\n",
    "    '''Calculates the chi sq given data, model and errors\n",
    "    Arguments:\n",
    "    data: series of datapoints (endogenous variable)\n",
    "    model: series of predicted values corresponding to the observed data\n",
    "    errors: series of errors (optional). \n",
    "    If errors are not passes all errors are set to 1\n",
    "    '''\n",
    "    if errors is None:\n",
    "        errors = np.ones_like(data)\n",
    "    if data.shape == model.shape and data.shape == errors.shape:\n",
    "        return (((data - model)**2) / errors**2).sum()\n",
    "    else: \n",
    "        print ('''ERROR: must pass arrays of identical dimension for data, model and (optional) error)''')\n",
    "        return -1"
   ]
  },
  {
   "cell_type": "markdown",
   "metadata": {},
   "source": [
    "4. *Assume Poisson statistics* for the errors on the *independent variable*. Poisson statistics means your uncertainty is the square root of your measurement.\n",
    "\n",
    "\n",
    "$$\n",
    "a = b * c\n",
    "$$\n",
    "\n",
    "\n",
    "$$\n",
    "\\sqrt{a} = \\sqrt{b * c} = \\sqrt{b} * \\sqrt{c}\n",
    "$$\n"
   ]
  },
  {
   "cell_type": "code",
   "execution_count": 58,
   "metadata": {
    "ExecuteTime": {
     "end_time": "2017-10-19T22:17:25.699044",
     "start_time": "2017-10-19T22:17:25.672033"
    },
    "collapsed": true
   },
   "outputs": [],
   "source": [
    "# errors on the measured quantities\n",
    "err_EUI = np.sqrt((data_cut['fl_area'])**2 + (data_cut['EUI']**2)) # error of EUI_total\n",
    "\n",
    "# Assume count statistics in the number of units as well\n",
    "err_u = np.sqrt(data_cut.u_total) # error of u_total\n",
    "\n",
    "#These errors need to be propagated properly through the log"
   ]
  },
  {
   "cell_type": "markdown",
   "metadata": {},
   "source": [
    "propagation of errors on the log:https://en.wikipedia.org/wiki/Propagation_of_uncertainty#Linear_combinations\n",
    "\n",
    "$f=a\\log _{10}(A)$\n",
    "\n",
    "$\\sigma _{f}\\approx \\left(a{\\frac {\\sigma _{A}}{A\\ln(10)}}\\right)$"
   ]
  },
  {
   "cell_type": "code",
   "execution_count": 72,
   "metadata": {},
   "outputs": [
    {
     "name": "stderr",
     "output_type": "stream",
     "text": [
      "/Users/Yuwen/anaconda/lib/python3.6/site-packages/ipykernel_launcher.py:4: SettingWithCopyWarning: \n",
      "A value is trying to be set on a copy of a slice from a DataFrame.\n",
      "Try using .loc[row_indexer,col_indexer] = value instead\n",
      "\n",
      "See the caveats in the documentation: http://pandas.pydata.org/pandas-docs/stable/indexing.html#indexing-view-versus-copy\n",
      "  after removing the cwd from sys.path.\n",
      "/Users/Yuwen/anaconda/lib/python3.6/site-packages/ipykernel_launcher.py:5: SettingWithCopyWarning: \n",
      "A value is trying to be set on a copy of a slice from a DataFrame.\n",
      "Try using .loc[row_indexer,col_indexer] = value instead\n",
      "\n",
      "See the caveats in the documentation: http://pandas.pydata.org/pandas-docs/stable/indexing.html#indexing-view-versus-copy\n",
      "  \"\"\"\n"
     ]
    }
   ],
   "source": [
    "err_logEUI = np.abs(err_EUI / data_cut.EUI_total / np.log(10))\n",
    "err_logu = np.abs(err_u / data_cut.u_total / np.log(10))\n",
    "\n",
    "data_cut['err_EUI'] = err_logEUI\n",
    "data_cut['err_u'] = err_logu"
   ]
  },
  {
   "cell_type": "code",
   "execution_count": 70,
   "metadata": {},
   "outputs": [
    {
     "data": {
      "text/html": [
       "<div>\n",
       "<style>\n",
       "    .dataframe thead tr:only-child th {\n",
       "        text-align: right;\n",
       "    }\n",
       "\n",
       "    .dataframe thead th {\n",
       "        text-align: left;\n",
       "    }\n",
       "\n",
       "    .dataframe tbody tr th {\n",
       "        vertical-align: top;\n",
       "    }\n",
       "</style>\n",
       "<table border=\"1\" class=\"dataframe\">\n",
       "  <thead>\n",
       "    <tr style=\"text-align: right;\">\n",
       "      <th></th>\n",
       "      <th>BBL</th>\n",
       "      <th>EUI</th>\n",
       "      <th>fl_area</th>\n",
       "      <th>n_bldg</th>\n",
       "      <th>u_res</th>\n",
       "      <th>u_total</th>\n",
       "      <th>year</th>\n",
       "      <th>EUI_total</th>\n",
       "      <th>err_EUI</th>\n",
       "      <th>err_u</th>\n",
       "    </tr>\n",
       "  </thead>\n",
       "  <tbody>\n",
       "    <tr>\n",
       "      <th>2</th>\n",
       "      <td>1.013110e+09</td>\n",
       "      <td>125.4</td>\n",
       "      <td>330000.0</td>\n",
       "      <td>1.0</td>\n",
       "      <td>0</td>\n",
       "      <td>56</td>\n",
       "      <td>1977</td>\n",
       "      <td>41382000.0</td>\n",
       "      <td>0.003463</td>\n",
       "      <td>0.058035</td>\n",
       "    </tr>\n",
       "    <tr>\n",
       "      <th>16</th>\n",
       "      <td>1.008150e+09</td>\n",
       "      <td>117.0</td>\n",
       "      <td>364000.0</td>\n",
       "      <td>1.0</td>\n",
       "      <td>0</td>\n",
       "      <td>24</td>\n",
       "      <td>1954</td>\n",
       "      <td>42588000.0</td>\n",
       "      <td>0.003712</td>\n",
       "      <td>0.088650</td>\n",
       "    </tr>\n",
       "    <tr>\n",
       "      <th>18</th>\n",
       "      <td>1.005050e+09</td>\n",
       "      <td>82.1</td>\n",
       "      <td>235370.0</td>\n",
       "      <td>1.0</td>\n",
       "      <td>0</td>\n",
       "      <td>24</td>\n",
       "      <td>1926</td>\n",
       "      <td>19323877.0</td>\n",
       "      <td>0.005290</td>\n",
       "      <td>0.088650</td>\n",
       "    </tr>\n",
       "    <tr>\n",
       "      <th>19</th>\n",
       "      <td>1.021420e+09</td>\n",
       "      <td>137.7</td>\n",
       "      <td>64806.0</td>\n",
       "      <td>1.0</td>\n",
       "      <td>54</td>\n",
       "      <td>62</td>\n",
       "      <td>1924</td>\n",
       "      <td>8923786.2</td>\n",
       "      <td>0.003154</td>\n",
       "      <td>0.055155</td>\n",
       "    </tr>\n",
       "    <tr>\n",
       "      <th>20</th>\n",
       "      <td>1.021750e+09</td>\n",
       "      <td>103.2</td>\n",
       "      <td>62839.0</td>\n",
       "      <td>1.0</td>\n",
       "      <td>75</td>\n",
       "      <td>85</td>\n",
       "      <td>1920</td>\n",
       "      <td>6484984.8</td>\n",
       "      <td>0.004208</td>\n",
       "      <td>0.047106</td>\n",
       "    </tr>\n",
       "  </tbody>\n",
       "</table>\n",
       "</div>"
      ],
      "text/plain": [
       "             BBL    EUI   fl_area  n_bldg  u_res  u_total  year   EUI_total  \\\n",
       "2   1.013110e+09  125.4  330000.0     1.0      0       56  1977  41382000.0   \n",
       "16  1.008150e+09  117.0  364000.0     1.0      0       24  1954  42588000.0   \n",
       "18  1.005050e+09   82.1  235370.0     1.0      0       24  1926  19323877.0   \n",
       "19  1.021420e+09  137.7   64806.0     1.0     54       62  1924   8923786.2   \n",
       "20  1.021750e+09  103.2   62839.0     1.0     75       85  1920   6484984.8   \n",
       "\n",
       "     err_EUI     err_u  \n",
       "2   0.003463  0.058035  \n",
       "16  0.003712  0.088650  \n",
       "18  0.005290  0.088650  \n",
       "19  0.003154  0.055155  \n",
       "20  0.004208  0.047106  "
      ]
     },
     "execution_count": 70,
     "metadata": {},
     "output_type": "execute_result"
    }
   ],
   "source": [
    "data_cut.head()"
   ]
  },
  {
   "cell_type": "code",
   "execution_count": 74,
   "metadata": {},
   "outputs": [
    {
     "data": {
      "text/plain": [
       "3429375307682.7046"
      ]
     },
     "execution_count": 74,
     "metadata": {},
     "output_type": "execute_result"
    }
   ],
   "source": [
    "chi2(np.log10(data_cut.EUI_total), lm.fittedvalues, data_cut.err_EUI)"
   ]
  },
  {
   "cell_type": "markdown",
   "metadata": {},
   "source": [
    "5. **Fit a 2nd degree polynomial** to the Units vs Energy"
   ]
  },
  {
   "cell_type": "code",
   "execution_count": 48,
   "metadata": {},
   "outputs": [
    {
     "data": {
      "text/html": [
       "<table class=\"simpletable\">\n",
       "<caption>OLS Regression Results</caption>\n",
       "<tr>\n",
       "  <th>Dep. Variable:</th>    <td>np.log10(EUI_total)</td> <th>  R-squared:         </th> <td>   0.232</td> \n",
       "</tr>\n",
       "<tr>\n",
       "  <th>Model:</th>                    <td>OLS</td>         <th>  Adj. R-squared:    </th> <td>   0.232</td> \n",
       "</tr>\n",
       "<tr>\n",
       "  <th>Method:</th>              <td>Least Squares</td>    <th>  F-statistic:       </th> <td>   603.4</td> \n",
       "</tr>\n",
       "<tr>\n",
       "  <th>Date:</th>              <td>Fri, 20 Oct 2017</td>   <th>  Prob (F-statistic):</th> <td>1.12e-229</td>\n",
       "</tr>\n",
       "<tr>\n",
       "  <th>Time:</th>                  <td>15:10:16</td>       <th>  Log-Likelihood:    </th> <td> -2161.6</td> \n",
       "</tr>\n",
       "<tr>\n",
       "  <th>No. Observations:</th>       <td>  3992</td>        <th>  AIC:               </th> <td>   4329.</td> \n",
       "</tr>\n",
       "<tr>\n",
       "  <th>Df Residuals:</th>           <td>  3989</td>        <th>  BIC:               </th> <td>   4348.</td> \n",
       "</tr>\n",
       "<tr>\n",
       "  <th>Df Model:</th>               <td>     2</td>        <th>                     </th>     <td> </td>    \n",
       "</tr>\n",
       "<tr>\n",
       "  <th>Covariance Type:</th>       <td>nonrobust</td>      <th>                     </th>     <td> </td>    \n",
       "</tr>\n",
       "</table>\n",
       "<table class=\"simpletable\">\n",
       "<tr>\n",
       "              <td></td>                 <th>coef</th>     <th>std err</th>      <th>t</th>      <th>P>|t|</th>  <th>[0.025</th>    <th>0.975]</th>  \n",
       "</tr>\n",
       "<tr>\n",
       "  <th>Intercept</th>                 <td>    8.1337</td> <td>    0.115</td> <td>   70.892</td> <td> 0.000</td> <td>    7.909</td> <td>    8.359</td>\n",
       "</tr>\n",
       "<tr>\n",
       "  <th>np.log10(u_total)</th>         <td>   -1.7302</td> <td>    0.122</td> <td>  -14.198</td> <td> 0.000</td> <td>   -1.969</td> <td>   -1.491</td>\n",
       "</tr>\n",
       "<tr>\n",
       "  <th>I(np.log10(u_total) ** 2)</th> <td>    0.5824</td> <td>    0.032</td> <td>   18.399</td> <td> 0.000</td> <td>    0.520</td> <td>    0.645</td>\n",
       "</tr>\n",
       "</table>\n",
       "<table class=\"simpletable\">\n",
       "<tr>\n",
       "  <th>Omnibus:</th>       <td>2363.734</td> <th>  Durbin-Watson:     </th> <td>   1.744</td> \n",
       "</tr>\n",
       "<tr>\n",
       "  <th>Prob(Omnibus):</th>  <td> 0.000</td>  <th>  Jarque-Bera (JB):  </th> <td>65676.793</td>\n",
       "</tr>\n",
       "<tr>\n",
       "  <th>Skew:</th>           <td> 2.316</td>  <th>  Prob(JB):          </th> <td>    0.00</td> \n",
       "</tr>\n",
       "<tr>\n",
       "  <th>Kurtosis:</th>       <td>22.323</td>  <th>  Cond. No.          </th> <td>    118.</td> \n",
       "</tr>\n",
       "</table>"
      ],
      "text/plain": [
       "<class 'statsmodels.iolib.summary.Summary'>\n",
       "\"\"\"\n",
       "                             OLS Regression Results                            \n",
       "===============================================================================\n",
       "Dep. Variable:     np.log10(EUI_total)   R-squared:                       0.232\n",
       "Model:                             OLS   Adj. R-squared:                  0.232\n",
       "Method:                  Least Squares   F-statistic:                     603.4\n",
       "Date:                 Fri, 20 Oct 2017   Prob (F-statistic):          1.12e-229\n",
       "Time:                         15:10:16   Log-Likelihood:                -2161.6\n",
       "No. Observations:                 3992   AIC:                             4329.\n",
       "Df Residuals:                     3989   BIC:                             4348.\n",
       "Df Model:                            2                                         \n",
       "Covariance Type:             nonrobust                                         \n",
       "=============================================================================================\n",
       "                                coef    std err          t      P>|t|      [0.025      0.975]\n",
       "---------------------------------------------------------------------------------------------\n",
       "Intercept                     8.1337      0.115     70.892      0.000       7.909       8.359\n",
       "np.log10(u_total)            -1.7302      0.122    -14.198      0.000      -1.969      -1.491\n",
       "I(np.log10(u_total) ** 2)     0.5824      0.032     18.399      0.000       0.520       0.645\n",
       "==============================================================================\n",
       "Omnibus:                     2363.734   Durbin-Watson:                   1.744\n",
       "Prob(Omnibus):                  0.000   Jarque-Bera (JB):            65676.793\n",
       "Skew:                           2.316   Prob(JB):                         0.00\n",
       "Kurtosis:                      22.323   Cond. No.                         118.\n",
       "==============================================================================\n",
       "\n",
       "Warnings:\n",
       "[1] Standard Errors assume that the covariance matrix of the errors is correctly specified.\n",
       "\"\"\""
      ]
     },
     "execution_count": 48,
     "metadata": {},
     "output_type": "execute_result"
    }
   ],
   "source": [
    "cm = smf.ols(formula='np.log10(EUI_total) ~ np.log10(u_total) + I(np.log10(u_total)**2)', data=data_cut, missing='drop').fit()\n",
    "cm.summary()"
   ]
  },
  {
   "cell_type": "code",
   "execution_count": 103,
   "metadata": {},
   "outputs": [
    {
     "data": {
      "text/plain": [
       "method"
      ]
     },
     "execution_count": 103,
     "metadata": {},
     "output_type": "execute_result"
    }
   ],
   "source": [
    "type(cm.fittedvalues.sort_values)"
   ]
  },
  {
   "cell_type": "code",
   "execution_count": 112,
   "metadata": {},
   "outputs": [
    {
     "data": {
      "text/plain": [
       "<matplotlib.legend.Legend at 0x11f4d9a90>"
      ]
     },
     "execution_count": 112,
     "metadata": {},
     "output_type": "execute_result"
    },
    {
     "data": {
      "image/png": "[encoded data removed]",
      "text/plain": [
       "<matplotlib.figure.Figure at 0x11e7887b8>"
      ]
     },
     "metadata": {},
     "output_type": "display_data"
    }
   ],
   "source": [
    "pl.figure(figsize=(10,8))\n",
    "pl.plot(np.log10(data_cut.u_total), np.log10(data_cut.EUI_total), '.', label='building')\n",
    "pl.plot(np.log10(data_cut.u_total).sort_values(), cm.fittedvalues.sort_values(), 'r-', markersize=4, label='curve model')\n",
    "pl.legend();"
   ]
  },
  {
   "cell_type": "markdown",
   "metadata": {},
   "source": [
    "6. **Compare the Units vs Energy line fit and the Units vs Energy 2-nd degree polynomial fit with the Likelihood ratio test**\n",
    "\n",
    "Compare this LR statistics to a chi sq table\n",
    "\n",
    "\n",
    "$$\n",
    "\\chi_1^{0.05} = 3.84\n",
    "$$"
   ]
  },
  {
   "cell_type": "markdown",
   "metadata": {},
   "source": [
    "$H_0:$ The restricted (simpler) model, linear model (lm), is assumed to be nested in the more complex curve model (cm)\n",
    "\n",
    "Rejected, at $\\alpha = 0.05$ lm is not preferable to cm."
   ]
  },
  {
   "cell_type": "code",
   "execution_count": 94,
   "metadata": {
    "run_control": {
     "frozen": false,
     "read_only": false
    }
   },
   "outputs": [
    {
     "name": "stdout",
     "output_type": "stream",
     "text": [
      "LR statistic:  325.157988067\n",
      "LR statistic from statsmodels:  325.157988067\n"
     ]
    },
    {
     "data": {
      "text/plain": [
       "(325.15798806713792, 1.0899519200204675e-72, 1.0)"
      ]
     },
     "execution_count": 94,
     "metadata": {},
     "output_type": "execute_result"
    }
   ],
   "source": [
    "print (\"LR statistic: \", -2 * (lm.llf - cm.llf))\n",
    "cm.compare_lr_test(lm)\n",
    "print (\"LR statistic from statsmodels: \", cm.compare_lr_test(lm)[0])\n",
    "cm.compare_lr_test(lm)"
   ]
  },
  {
   "cell_type": "markdown",
   "metadata": {
    "run_control": {
     "frozen": false,
     "read_only": false
    }
   },
   "source": [
    "## Extra credit 1: calculate and plot the likelihood surface\n",
    "Create a function that minimizes the residuals:\n",
    "\n",
    "the residuals are the sum of the differences between data and model: in the case of a line fit model. Use the same function you created for the chi^2 test.\n",
    "\n",
    "You should sum over each datapoints the residuals squared, which should look something like\n",
    "\n",
    "(np.log(bblnrgdatacut.nrg) - np.log(bblnrgdatacut.UnitsTotal)*a+b )^2 / errors^2\n",
    "\n",
    "where a and b are the parameters returned by the line fitter. \n",
    "\n",
    "For each data point you can calculate the model at different values : for example in a range B = np.arange (-100, 100, 1) for the intercept, and A = np.arange(-50.0, 50.0, 0.5) for the slope.\n",
    "\n",
    "\n",
    "You can write it as a nested for loop (or challenge yourself and vectorize it!) with a loop inside another ranging all poissible combinations of the 2 variables (i use enumerate to get both an index from 0 to the size of my array, which i assign to i (and j) and the value of the array at that index - look up the syntax!):\n",
    "\n",
    "\n",
    "Lsurface = np.zeros((len(A), len(B)))\n",
    "for i,a in enumerate(A):\n",
    "    for j,b in enumerate(B):\n",
    "         Lsurface[i][j] = np.nansum(residuals(a,b,data,errors)) .....\n",
    "\n",
    "this gives you a 2D array that represents your likelihood surface! What we do to find a good fit is find the minimum (lowest point) on this surface.\n",
    "You can plot a surface (a 2D array) with pl.imshow(Lsurface) as a \"heatmap\" but when you do that you will find that the plot is very uninformative. just like you did before with the data, plot the log of it (pl.imshow(np.log(Lsurface)). Also make sure your x and y axes tick numbers represent the range of values, not the cell index, which is the default for imshow. Inputting your data in the cell below should give a plot similar to mine"
   ]
  },
  {
   "cell_type": "code",
   "execution_count": 56,
   "metadata": {
    "run_control": {
     "frozen": false,
     "read_only": false
    }
   },
   "outputs": [
    {
     "ename": "NameError",
     "evalue": "name 'Lsurface' is not defined",
     "output_type": "error",
     "traceback": [
      "\u001b[0;31m---------------------------------------------------------------------------\u001b[0m",
      "\u001b[0;31mNameError\u001b[0m                                 Traceback (most recent call last)",
      "\u001b[0;32m<ipython-input-56-f8f12b1ad37d>\u001b[0m in \u001b[0;36m<module>\u001b[0;34m()\u001b[0m\n\u001b[1;32m      1\u001b[0m \u001b[0mpl\u001b[0m\u001b[0;34m.\u001b[0m\u001b[0mfigure\u001b[0m\u001b[0;34m(\u001b[0m\u001b[0mfigsize\u001b[0m\u001b[0;34m=\u001b[0m\u001b[0;34m(\u001b[0m\u001b[0;36m10\u001b[0m\u001b[0;34m,\u001b[0m\u001b[0;36m10\u001b[0m\u001b[0;34m)\u001b[0m\u001b[0;34m)\u001b[0m\u001b[0;34m\u001b[0m\u001b[0m\n\u001b[1;32m      2\u001b[0m \u001b[0mpl\u001b[0m\u001b[0;34m.\u001b[0m\u001b[0mtitle\u001b[0m \u001b[0;34m(\u001b[0m\u001b[0;34m\"log likelihood surface\"\u001b[0m\u001b[0;34m,\u001b[0m \u001b[0mfontsize\u001b[0m \u001b[0;34m=\u001b[0m \u001b[0;36m22\u001b[0m\u001b[0;34m)\u001b[0m\u001b[0;34m\u001b[0m\u001b[0m\n\u001b[0;32m----> 3\u001b[0;31m \u001b[0mpl\u001b[0m\u001b[0;34m.\u001b[0m\u001b[0mimshow\u001b[0m\u001b[0;34m(\u001b[0m\u001b[0mnp\u001b[0m\u001b[0;34m.\u001b[0m\u001b[0mlog\u001b[0m\u001b[0;34m(\u001b[0m\u001b[0mLsurface\u001b[0m\u001b[0;34m)\u001b[0m\u001b[0;34m,\u001b[0m \u001b[0mextent\u001b[0m \u001b[0;34m=\u001b[0m \u001b[0;34m[\u001b[0m\u001b[0;34m-\u001b[0m\u001b[0;36m50\u001b[0m\u001b[0;34m,\u001b[0m\u001b[0;36m50\u001b[0m\u001b[0;34m,\u001b[0m\u001b[0;36m100\u001b[0m\u001b[0;34m,\u001b[0m\u001b[0;34m-\u001b[0m\u001b[0;36m100\u001b[0m\u001b[0;34m]\u001b[0m\u001b[0;34m,\u001b[0m \u001b[0maspect\u001b[0m\u001b[0;34m=\u001b[0m\u001b[0;36m0.5\u001b[0m\u001b[0;34m)\u001b[0m\u001b[0;34m\u001b[0m\u001b[0m\n\u001b[0m\u001b[1;32m      4\u001b[0m \u001b[0mpl\u001b[0m\u001b[0;34m.\u001b[0m\u001b[0mxlabel\u001b[0m\u001b[0;34m(\u001b[0m\u001b[0;34m'slope'\u001b[0m\u001b[0;34m,\u001b[0m \u001b[0mfontsize\u001b[0m \u001b[0;34m=\u001b[0m \u001b[0;36m22\u001b[0m\u001b[0;34m)\u001b[0m\u001b[0;34m\u001b[0m\u001b[0m\n\u001b[1;32m      5\u001b[0m \u001b[0mpl\u001b[0m\u001b[0;34m.\u001b[0m\u001b[0mylabel\u001b[0m\u001b[0;34m(\u001b[0m\u001b[0;34m'intercept'\u001b[0m\u001b[0;34m,\u001b[0m \u001b[0mfontsize\u001b[0m \u001b[0;34m=\u001b[0m \u001b[0;36m22\u001b[0m\u001b[0;34m)\u001b[0m\u001b[0;34m\u001b[0m\u001b[0m\n",
      "\u001b[0;31mNameError\u001b[0m: name 'Lsurface' is not defined"
     ]
    },
    {
     "data": {
      "image/png": "[encoded data removed]",
      "text/plain": [
       "<matplotlib.figure.Figure at 0x11e150e48>"
      ]
     },
     "metadata": {},
     "output_type": "display_data"
    }
   ],
   "source": [
    "pl.figure(figsize=(10,10))\n",
    "pl.title (\"log likelihood surface\", fontsize = 22)\n",
    "pl.imshow(np.log(Lsurface), extent = [-50,50,100,-100], aspect=0.5)\n",
    "pl.xlabel('slope', fontsize = 22)\n",
    "pl.ylabel('intercept', fontsize = 22)\n",
    "pl.colorbar()"
   ]
  },
  {
   "cell_type": "markdown",
   "metadata": {
    "run_control": {
     "frozen": false,
     "read_only": false
    }
   },
   "source": [
    "## EXTRA CREDIT: get creative with the dataset. can you make an insigntful plot to show any structure in the data?\n",
    "\n",
    "below I am mapping the building age to a colormap and the ratio of total to residential units to the size of the datapoint."
   ]
  },
  {
   "cell_type": "code",
   "execution_count": null,
   "metadata": {
    "run_control": {
     "frozen": false,
     "read_only": false
    }
   },
   "outputs": [],
   "source": [
    "bblnrgdata['YearBuilt'][bblnrgdata['YearBuilt']<1800]=1800\n",
    "\n",
    "bblnrgdata.plot(kind='scatter',x='nrg',y='UnitsTotal', \n",
    "                fontsize=22, colormap='gist_rainbow', alpha = 1, \n",
    "                marker='o',  figsize=(16, 14), loglog=True,  \n",
    "                xlim=(1000,1e11), ylim=(1,1000), \n",
    "                c=bblnrgdata['YearBuilt']-1900, \n",
    "                s=bblnrgdata['UnitsTotal']/bblnrgdata['UnitsRes']*100)\n",
    "pl.title('Color maps Age in years, Size maps tital/residential units', fontsize=18)\n",
    "pl.ylabel(\"total number of units\", fontsize=22)\n",
    "pl.xlabel(\"total energy consumption (kBtu)\", fontsize=22)"
   ]
  }
 ],
 "metadata": {
  "kernelspec": {
   "display_name": "Python 3",
   "language": "python",
   "name": "python3"
  },
  "language_info": {
   "codemirror_mode": {
    "name": "ipython",
    "version": 3
   },
   "file_extension": ".py",
   "mimetype": "text/x-python",
   "name": "python",
   "nbconvert_exporter": "python",
   "pygments_lexer": "ipython3",
   "version": "3.6.1"
  },
  "latex_envs": {
   "LaTeX_envs_menu_present": true,
   "bibliofile": "biblio.bib",
   "cite_by": "apalike",
   "current_citInitial": 1,
   "eqLabelWithNumbers": true,
   "eqNumInitial": 1,
   "hotkeys": {
    "equation": "Ctrl-E",
    "itemize": "Ctrl-I"
   },
   "labels_anchors": false,
   "latex_user_defs": false,
   "report_style_numbering": false,
   "user_envs_cfg": false
  },
  "toc": {
   "colors": {
    "hover_highlight": "#DAA520",
    "running_highlight": "#FF0000",
    "selected_highlight": "#FFD700"
   },
   "moveMenuLeft": true,
   "nav_menu": {
    "height": "116px",
    "width": "252px"
   },
   "navigate_menu": true,
   "number_sections": false,
   "sideBar": true,
   "threshold": 4,
   "toc_cell": false,
   "toc_position": {
    "height": "323px",
    "left": "0px",
    "right": "617.333px",
    "top": "130px",
    "width": "212px"
   },
   "toc_section_display": "block",
   "toc_window_display": true
  }
 },
 "nbformat": 4,
 "nbformat_minor": 1
}
